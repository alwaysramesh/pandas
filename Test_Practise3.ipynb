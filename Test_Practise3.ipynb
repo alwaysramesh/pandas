{
 "cells": [
  {
   "cell_type": "code",
   "execution_count": 1,
   "id": "7a3f8e43-3388-448b-888b-35be08557de8",
   "metadata": {},
   "outputs": [],
   "source": [
    "import numpy as np\n"
   ]
  },
  {
   "cell_type": "markdown",
   "id": "b00067aa-3c7d-4c49-933c-e5a54e6a97a1",
   "metadata": {},
   "source": [
    "Create a 1D NumPy array with values from 0 to 20 (inclusive), with a step of 2."
   ]
  },
  {
   "cell_type": "code",
   "execution_count": 6,
   "id": "2d44a09c-11eb-4b52-9afa-af2cd7b72a4c",
   "metadata": {},
   "outputs": [
    {
     "name": "stdout",
     "output_type": "stream",
     "text": [
      "[ 0  2  4  6  8 10 12 14 16 18 20]\n"
     ]
    }
   ],
   "source": [
    "array=np.arange(0,21,2)\n",
    "print(array)"
   ]
  },
  {
   "cell_type": "code",
   "execution_count": 20,
   "id": "58b1ddea-9bf7-413d-a99b-5d7c88adc8b4",
   "metadata": {},
   "outputs": [
    {
     "name": "stdout",
     "output_type": "stream",
     "text": [
      "[[5 5 5]\n",
      " [5 5 5]\n",
      " [5 5 5]]\n"
     ]
    }
   ],
   "source": [
    "#Create a 3x3 matrix with all elements as 5.\n",
    "array=np.full((3,3),5)\n",
    "print(array)"
   ]
  },
  {
   "cell_type": "code",
   "execution_count": 24,
   "id": "a0ee7876-2275-4f4e-9333-fc3589dbbe12",
   "metadata": {},
   "outputs": [
    {
     "name": "stdout",
     "output_type": "stream",
     "text": [
      "[5 7 9]\n",
      "Multiplt\n",
      "[ 4 10 18]\n",
      "32\n"
     ]
    }
   ],
   "source": [
    "arr1=np.array([1,2,3])\n",
    "arr2=np.array([4,5,6])\n",
    "add=arr1+arr2\n",
    "print(add)\n",
    "print(\"Multiplt\")\n",
    "mul=arr1*arr2\n",
    "print(mul)\n",
    "dot=np.dot(arr1,arr2)\n",
    "print(dot)"
   ]
  },
  {
   "cell_type": "code",
   "execution_count": 32,
   "id": "7649c4aa-05ae-4222-a832-f797758eada0",
   "metadata": {},
   "outputs": [
    {
     "name": "stdout",
     "output_type": "stream",
     "text": [
      "[0 1 2 3 4 5 6 7 8 9]\n",
      "[0 1 2 3 4]\n"
     ]
    }
   ],
   "source": [
    "arr=np.arange(10)\n",
    "\n",
    "print(arr)\n",
    "slice=arr[:5]\n",
    "print(slice)"
   ]
  },
  {
   "cell_type": "code",
   "execution_count": 33,
   "id": "bff7400d-ddbc-4dce-af43-dd3b52ab681a",
   "metadata": {},
   "outputs": [
    {
     "name": "stdout",
     "output_type": "stream",
     "text": [
      "[6 7 8 9]\n"
     ]
    }
   ],
   "source": [
    "'''Given a NumPy array a = np.array([1, 2, 3, 4]) and a scalar 5, add the scalar to the array using broadcasting'''\n",
    "a = np.array([1, 2, 3, 4])\n",
    "scalar = 5\n",
    "# Add the scalar to the array using broadcasting\n",
    "result = a + scalar\n",
    "print(result)"
   ]
  },
  {
   "cell_type": "code",
   "execution_count": 41,
   "id": "2e043962-208e-4334-8ea6-05e552eb5098",
   "metadata": {},
   "outputs": [
    {
     "name": "stdout",
     "output_type": "stream",
     "text": [
      "[ 72  40   7  88  54  46  35  29  84 100]\n",
      "55.5\n",
      "\n",
      "50.0\n",
      "\n",
      "28.15759222660915\n"
     ]
    }
   ],
   "source": [
    "arr=np.random.randint(1,101,size=10)\n",
    "print(arr)\n",
    "mean=np.mean(arr)\n",
    "print(mean)\n",
    "median=np.median(arr)\n",
    "print()\n",
    "print(median)\n",
    "std=np.std(arr)\n",
    "print()\n",
    "print(std)"
   ]
  },
  {
   "cell_type": "code",
   "execution_count": null,
   "id": "98759988-2e80-4f18-8b39-602353d0356f",
   "metadata": {},
   "outputs": [],
   "source": []
  },
  {
   "cell_type": "code",
   "execution_count": 42,
   "id": "457fa92d-399e-4df4-8145-34dfa44fa9cd",
   "metadata": {},
   "outputs": [],
   "source": [
    "import pandas as pd"
   ]
  },
  {
   "cell_type": "code",
   "execution_count": 88,
   "id": "5f5df839-23a4-4e2d-81af-51700d28be6c",
   "metadata": {},
   "outputs": [
    {
     "name": "stdout",
     "output_type": "stream",
     "text": [
      "     name  age    city\n",
      "0  Ramesh   20  Bhopal\n",
      "1   Rahul   21  Indore\n",
      "2  Rakesh   24    Rewa\n",
      "\n",
      "Age wali colmn\n",
      "0    20\n",
      "1    21\n",
      "2    24\n",
      "Name: age, dtype: int64\n",
      "     name  age  city\n",
      "2  Rakesh   24  Rewa\n",
      "21.666666666666668\n",
      "     name  age    city\n",
      "0  Ramesh   20  Bhopal\n",
      "1   Rahul   21  Indore\n",
      "2  Rakesh   24    Rewa\n"
     ]
    }
   ],
   "source": [
    "df=pd.DataFrame({\"name\":['Ramesh','Rahul','Rakesh'],'age':[20,21,24],'city':['Bhopal','Indore','Rewa']})\n",
    "print(df)\n",
    "print()\n",
    "print(\"Age wali colmn\")\n",
    "df1= df['age']\n",
    "print(df1)\n",
    "\n",
    "df2= df[df['name']=='Rakesh']\n",
    "print(df2)\n",
    "\n",
    "df4=df['age'].mean()\n",
    "print(df4)\n",
    "df['age']=df['age'].fillna(df4)\n",
    "print(df)"
   ]
  },
  {
   "cell_type": "code",
   "execution_count": 14,
   "id": "040bf780-2b22-42bc-9f35-f5d8ddf38a1f",
   "metadata": {},
   "outputs": [
    {
     "name": "stdout",
     "output_type": "stream",
     "text": [
      "    Name Designation  Salary\n",
      "0  Alice     Manager   75000\n",
      "3  David   Developer   50000\n"
     ]
    }
   ],
   "source": [
    "import pandas as pd\n",
    "\n",
    "# Create data for the DataFrame\n",
    "data = {\n",
    "    'Name': ['Alice', 'Bob', 'Charlie', 'David', 'Eva'],\n",
    "    'Designation': ['Manager', 'Engineer', 'Analyst', 'Developer', 'HR'],\n",
    "    'Salary': [75000, 60000, 55000, 50000, 45000]  # Integer values for salary\n",
    "}\n",
    "\n",
    "# Create the DataFrame\n",
    "df = pd.DataFrame(data)\n",
    "\n",
    "# Print every third row\n",
    "third_row = df.iloc[::3]  # Step size of 3 to get every third row\n",
    "\n",
    "# Display the result\n",
    "print(third_row)\n"
   ]
  },
  {
   "cell_type": "code",
   "execution_count": null,
   "id": "be363b51-611e-48af-be16-82117461ede7",
   "metadata": {},
   "outputs": [],
   "source": []
  }
 ],
 "metadata": {
  "kernelspec": {
   "display_name": "Python 3 (ipykernel)",
   "language": "python",
   "name": "python3"
  },
  "language_info": {
   "codemirror_mode": {
    "name": "ipython",
    "version": 3
   },
   "file_extension": ".py",
   "mimetype": "text/x-python",
   "name": "python",
   "nbconvert_exporter": "python",
   "pygments_lexer": "ipython3",
   "version": "3.12.4"
  }
 },
 "nbformat": 4,
 "nbformat_minor": 5
}
