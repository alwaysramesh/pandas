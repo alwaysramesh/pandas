{
 "cells": [
  {
   "cell_type": "code",
   "execution_count": 1,
   "id": "a3f19962-210d-4bd0-b4ad-e39a07373e0c",
   "metadata": {},
   "outputs": [],
   "source": [
    "import pandas as pd\n",
    "import numpy as np\n",
    "from numpy.random import randn"
   ]
  },
  {
   "cell_type": "code",
   "execution_count": 20,
   "id": "1fc95c1e-b62b-4891-8810-f3debaf22189",
   "metadata": {},
   "outputs": [],
   "source": [
    "#to create database 3,4 columns=[A,B,C] and rows=[a,b,c,d] and c and d rows NaN\n",
    "data ={'A': [10, 20,np.nan, np.nan],'B': [40, 50,np.nan, np.nan],'C': [30, 60, np.nan, np.nan]}\n",
    "\n"
   ]
  },
  {
   "cell_type": "code",
   "execution_count": 21,
   "id": "695161ce-119a-4ec1-bb7d-c2fc679a62dd",
   "metadata": {},
   "outputs": [
    {
     "name": "stdout",
     "output_type": "stream",
     "text": [
      "      A     B     C\n",
      "0  10.0  40.0  30.0\n",
      "1  20.0  50.0  60.0\n",
      "2   NaN   NaN   NaN\n",
      "3   NaN   NaN   NaN\n"
     ]
    }
   ],
   "source": [
    "index = ['a', 'b', 'c', 'd']\n",
    "df = pd.DataFrame(data)\n",
    "print(df)"
   ]
  },
  {
   "cell_type": "code",
   "execution_count": 22,
   "id": "65bc3021-0b7e-4f1c-bf78-ea324b533b30",
   "metadata": {},
   "outputs": [
    {
     "data": {
      "text/html": [
       "<div>\n",
       "<style scoped>\n",
       "    .dataframe tbody tr th:only-of-type {\n",
       "        vertical-align: middle;\n",
       "    }\n",
       "\n",
       "    .dataframe tbody tr th {\n",
       "        vertical-align: top;\n",
       "    }\n",
       "\n",
       "    .dataframe thead th {\n",
       "        text-align: right;\n",
       "    }\n",
       "</style>\n",
       "<table border=\"1\" class=\"dataframe\">\n",
       "  <thead>\n",
       "    <tr style=\"text-align: right;\">\n",
       "      <th></th>\n",
       "      <th>A</th>\n",
       "      <th>B</th>\n",
       "      <th>C</th>\n",
       "    </tr>\n",
       "  </thead>\n",
       "  <tbody>\n",
       "    <tr>\n",
       "      <th>0</th>\n",
       "      <td>10.0</td>\n",
       "      <td>40.0</td>\n",
       "      <td>30.0</td>\n",
       "    </tr>\n",
       "    <tr>\n",
       "      <th>1</th>\n",
       "      <td>20.0</td>\n",
       "      <td>50.0</td>\n",
       "      <td>60.0</td>\n",
       "    </tr>\n",
       "  </tbody>\n",
       "</table>\n",
       "</div>"
      ],
      "text/plain": [
       "      A     B     C\n",
       "0  10.0  40.0  30.0\n",
       "1  20.0  50.0  60.0"
      ]
     },
     "execution_count": 22,
     "metadata": {},
     "output_type": "execute_result"
    }
   ],
   "source": [
    "df.dropna()"
   ]
  },
  {
   "cell_type": "code",
   "execution_count": 30,
   "id": "3fce62ff-3829-4369-a955-9d6fb3925943",
   "metadata": {},
   "outputs": [
    {
     "name": "stdout",
     "output_type": "stream",
     "text": [
      "Original DataFrame:\n",
      "      A     B     C\n",
      "a  10.0  40.0  30.0\n",
      "b  20.0  50.0  60.0\n",
      "c   NaN   NaN   NaN\n",
      "d   NaN   NaN   NaN\n",
      "\n",
      "DataFrame after dropna(thresh=1):\n",
      "      A     B     C\n",
      "a  10.0  40.0  30.0\n",
      "b  20.0  50.0  60.0\n"
     ]
    }
   ],
   "source": [
    "\n",
    "df2 = pd.DataFrame({'A': [10, 20, np.nan, np.nan],'B': [40, 50, np.nan, np.nan],'C': [30, 60, np.nan, np.nan]}, index=['a', 'b', 'c', 'd'])\n",
    "result = df2.dropna(thresh=1)\n",
    "\n",
    "print(\"Original DataFrame:\")\n",
    "print(df2)\n",
    "print(\"\\nDataFrame after dropna(thresh=1):\")\n",
    "print(result)\n"
   ]
  },
  {
   "cell_type": "code",
   "execution_count": 37,
   "id": "1cf70407-ed6a-4a38-b36f-fcf0b1a5cac7",
   "metadata": {},
   "outputs": [
    {
     "name": "stdout",
     "output_type": "stream",
     "text": [
      "Original DataFrame:\n",
      "      A     B     C\n",
      "a  10.0  40.0  30.0\n",
      "b  20.0  50.0  60.0\n",
      "c   NaN   NaN   NaN\n",
      "d   NaN   NaN   NaN\n",
      "\n",
      "DataFrame after dropna(thresh=1):\n",
      "      A     B     C\n",
      "a  10.0  40.0  30.0\n",
      "b  20.0  50.0  60.0\n",
      "       A     B     C\n",
      "a   10.0  40.0  30.0\n",
      "b  200.0  50.0  60.0\n",
      "c    NaN   NaN   NaN\n",
      "d    NaN   NaN   NaN\n"
     ]
    }
   ],
   "source": [
    "df3 = pd.DataFrame({'A': [10, 20, np.nan, np.nan],'B': [40, 50, np.nan, np.nan],'C': [30, 60, np.nan, np.nan]}, index=['a', 'b', 'c', 'd'])\n",
    "result = df3.dropna(thresh=1)\n",
    "\n",
    "print(\"Original DataFrame:\")\n",
    "print(df3)\n",
    "print(\"\\nDataFrame after dropna(thresh=1):\")\n",
    "print(result)\n",
    "print(df3.replace(20,200))"
   ]
  },
  {
   "cell_type": "code",
   "execution_count": 39,
   "id": "eed44335-3b2f-40cc-8011-94b4cfdf1bbd",
   "metadata": {},
   "outputs": [],
   "source": [
    "#next group by function next day we will study\n",
    "#transformation"
   ]
  },
  {
   "cell_type": "code",
   "execution_count": null,
   "id": "a282d60f-312c-4adb-88f8-ddb31f695127",
   "metadata": {},
   "outputs": [],
   "source": []
  }
 ],
 "metadata": {
  "kernelspec": {
   "display_name": "Python 3 (ipykernel)",
   "language": "python",
   "name": "python3"
  },
  "language_info": {
   "codemirror_mode": {
    "name": "ipython",
    "version": 3
   },
   "file_extension": ".py",
   "mimetype": "text/x-python",
   "name": "python",
   "nbconvert_exporter": "python",
   "pygments_lexer": "ipython3",
   "version": "3.12.4"
  }
 },
 "nbformat": 4,
 "nbformat_minor": 5
}
