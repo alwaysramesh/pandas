{
 "cells": [
  {
   "cell_type": "markdown",
   "id": "c2049f55-3a30-4ec8-962c-cf81cc946042",
   "metadata": {},
   "source": [
    "Transformation"
   ]
  },
  {
   "cell_type": "markdown",
   "id": "30e8ffd8-a2fa-4353-8b8c-e827bbe48441",
   "metadata": {},
   "source": [
    "it means lambda lagayenge aur jo bhi karenge sab me hoga that's point"
   ]
  },
  {
   "cell_type": "code",
   "execution_count": 1,
   "id": "ac1484a4-80f7-4163-9721-9a19d2a5d4c4",
   "metadata": {},
   "outputs": [],
   "source": [
    "import pandas as pd"
   ]
  },
  {
   "cell_type": "code",
   "execution_count": 2,
   "id": "d70849f0-c115-4e36-81df-b8fd5fa4e6a3",
   "metadata": {},
   "outputs": [
    {
     "name": "stdout",
     "output_type": "stream",
     "text": [
      "      Team  Rank  Year  Points\n",
      "0   Riders     1  2014     873\n",
      "1   Riders     2  2015     533\n",
      "2   Devils     2  2014      35\n",
      "3   Devils     3  2015      34\n",
      "4    Kings     3  2014     243\n",
      "5    Kings     4  2015     235\n",
      "6    Kings     1  2016     542\n",
      "7    Kings     1  2017     563\n",
      "8   Riders     2  2016      68\n",
      "9   Royals     4  2014     465\n",
      "10  Royals     1  2015     233\n",
      "11  Riders     2  2017     533\n"
     ]
    }
   ],
   "source": [
    "ipl_data=pd.DataFrame({'Team':[\"Riders\",\"Riders\",\"Devils\",\"Devils\",\"Kings\",\"Kings\",\"Kings\",\"Kings\",\"Riders\",\"Royals\",\"Royals\",\"Riders\"],\n",
    "                      'Rank':[1,2,2,3,3,4,1,1,2,4,1,2],\n",
    "                      'Year':[2014,2015,2014,2015,2014,2015,2016,2017,2016,2014,2015,2017],\n",
    "                      'Points':[873,533,35,34,243,235,542,563,68,465,233,533]})\n",
    "print(ipl_data)"
   ]
  },
  {
   "cell_type": "code",
   "execution_count": 11,
   "id": "6bed4370-939f-4ab2-8dad-8dac032b710f",
   "metadata": {},
   "outputs": [
    {
     "name": "stdout",
     "output_type": "stream",
     "text": [
      "    Rank  Year  Points\n",
      "0      3  2016     875\n",
      "1      4  2017     535\n",
      "2      4  2016      37\n",
      "3      5  2017      36\n",
      "4      5  2016     245\n",
      "5      6  2017     237\n",
      "6      3  2018     544\n",
      "7      3  2019     565\n",
      "8      4  2018      70\n",
      "9      6  2016     467\n",
      "10     3  2017     235\n",
      "11     4  2019     535\n"
     ]
    }
   ],
   "source": [
    "grouped=ipl_data.groupby('Team')\n",
    "score=lambda x:x+2\n",
    "print(grouped.transform(score))"
   ]
  },
  {
   "cell_type": "code",
   "execution_count": 13,
   "id": "035052d4-77aa-4a06-b07f-18109f05a51c",
   "metadata": {},
   "outputs": [
    {
     "name": "stdout",
     "output_type": "stream",
     "text": [
      "0     3\n",
      "1     4\n",
      "2     4\n",
      "3     5\n",
      "4     5\n",
      "5     6\n",
      "6     3\n",
      "7     3\n",
      "8     4\n",
      "9     6\n",
      "10    3\n",
      "11    4\n",
      "Name: Rank, dtype: int64\n"
     ]
    }
   ],
   "source": [
    "print(grouped['Rank'].transform(score))"
   ]
  },
  {
   "cell_type": "code",
   "execution_count": null,
   "id": "d8ab85a2-f7bb-4b18-b7ea-d35d2b9fc1bd",
   "metadata": {},
   "outputs": [],
   "source": []
  }
 ],
 "metadata": {
  "kernelspec": {
   "display_name": "Python 3 (ipykernel)",
   "language": "python",
   "name": "python3"
  },
  "language_info": {
   "codemirror_mode": {
    "name": "ipython",
    "version": 3
   },
   "file_extension": ".py",
   "mimetype": "text/x-python",
   "name": "python",
   "nbconvert_exporter": "python",
   "pygments_lexer": "ipython3",
   "version": "3.12.4"
  }
 },
 "nbformat": 4,
 "nbformat_minor": 5
}
