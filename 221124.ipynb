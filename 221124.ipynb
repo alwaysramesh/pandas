{
 "cells": [
  {
   "cell_type": "code",
   "execution_count": 1,
   "id": "e4b0cc59-f4d4-4ec9-b6d4-927ac49658d9",
   "metadata": {},
   "outputs": [],
   "source": [
    "import pandas as pd\n",
    "import numpy as np"
   ]
  },
  {
   "cell_type": "code",
   "execution_count": 5,
   "id": "d78da331-d24a-4984-b92d-e33c71d4a8c3",
   "metadata": {},
   "outputs": [
    {
     "name": "stdout",
     "output_type": "stream",
     "text": [
      "     Team  Rank  Year  Points\n",
      "0  Riders     1  2014     876\n",
      "2  Devils     2  2014     863\n",
      "4   Kings     3  2014     741\n",
      "9  Royals     4  2014     701\n"
     ]
    }
   ],
   "source": [
    "ipl_data={'Team':['Riders','Riders','Devils','Devils','Kings','Kings','Kings','Kings','Riders','Royals','Royals','Riders'],\n",
    "          'Rank':[1,2,2,3,3,4,1,1,2,4,1,2],\n",
    "          'Year':[2014,2015,2014,2015,2014,2015,2016,2017,2016,2014,2015,2017],\n",
    "          'Points':[876,789,863,673,741,812,756,788,694,701,804,690]}\n",
    "df=pd.DataFrame(ipl_data)\n",
    "g=df.groupby('Year')\n",
    "print(g.get_group(2014))"
   ]
  },
  {
   "cell_type": "code",
   "execution_count": 15,
   "id": "ab2dda95-4f73-4a9e-bdad-1fab946f05ee",
   "metadata": {},
   "outputs": [],
   "source": [
    "#find the name of team 2014 or find information of 2014"
   ]
  },
  {
   "cell_type": "markdown",
   "id": "27b9b86a-684b-4b99-af47-ce687cfe35fd",
   "metadata": {},
   "source": [
    "Aggregation"
   ]
  },
  {
   "cell_type": "code",
   "execution_count": 7,
   "id": "d43fecd1-c72d-4bcc-b124-f26360fd3048",
   "metadata": {},
   "outputs": [
    {
     "data": {
      "text/plain": [
       "Year\n",
       "2014    795.25\n",
       "2015    769.50\n",
       "2016    725.00\n",
       "2017    739.00\n",
       "Name: Points, dtype: float64"
      ]
     },
     "execution_count": 7,
     "metadata": {},
     "output_type": "execute_result"
    }
   ],
   "source": [
    "grouped=df.groupby(\"Year\")\n",
    "grouped['Points'].mean()"
   ]
  },
  {
   "cell_type": "code",
   "execution_count": 8,
   "id": "d20cf0c4-9119-4f04-99f6-e8872bf1fe18",
   "metadata": {},
   "outputs": [
    {
     "data": {
      "text/plain": [
       "Year\n",
       "2014    3181\n",
       "2015    3078\n",
       "2016    1450\n",
       "2017    1478\n",
       "Name: Points, dtype: int64"
      ]
     },
     "execution_count": 8,
     "metadata": {},
     "output_type": "execute_result"
    }
   ],
   "source": [
    "grouped['Points'].sum()"
   ]
  },
  {
   "cell_type": "code",
   "execution_count": 11,
   "id": "1fa1d209-295c-40fb-90a1-66a8c8ffa35a",
   "metadata": {},
   "outputs": [
    {
     "data": {
      "text/plain": [
       "Year\n",
       "2014    4\n",
       "2015    4\n",
       "2016    2\n",
       "2017    2\n",
       "Name: Points, dtype: int64"
      ]
     },
     "execution_count": 11,
     "metadata": {},
     "output_type": "execute_result"
    }
   ],
   "source": [
    "grouped['Points'].count()"
   ]
  },
  {
   "cell_type": "code",
   "execution_count": 12,
   "id": "cd586b58-b924-4802-b057-8680214b7011",
   "metadata": {},
   "outputs": [
    {
     "data": {
      "text/plain": [
       "Year\n",
       "2014    876\n",
       "2015    812\n",
       "2016    756\n",
       "2017    788\n",
       "Name: Points, dtype: int64"
      ]
     },
     "execution_count": 12,
     "metadata": {},
     "output_type": "execute_result"
    }
   ],
   "source": [
    "grouped['Points'].max()"
   ]
  },
  {
   "cell_type": "code",
   "execution_count": 14,
   "id": "50a2b130-058f-412e-82db-0a20a6d30ac1",
   "metadata": {},
   "outputs": [
    {
     "data": {
      "text/plain": [
       "Year\n",
       "2014    87.439026\n",
       "2015    65.035888\n",
       "2016    43.840620\n",
       "2017    69.296465\n",
       "Name: Points, dtype: float64"
      ]
     },
     "execution_count": 14,
     "metadata": {},
     "output_type": "execute_result"
    }
   ],
   "source": [
    "grouped['Points'].std() #standarded Devition"
   ]
  },
  {
   "cell_type": "markdown",
   "id": "e70b5077-3fdb-4d46-a6d5-bcaa399e2194",
   "metadata": {},
   "source": [
    "Transformation"
   ]
  },
  {
   "cell_type": "code",
   "execution_count": 21,
   "id": "ff1e9831-cacc-42ef-ba12-15f69a92464c",
   "metadata": {},
   "outputs": [
    {
     "name": "stdout",
     "output_type": "stream",
     "text": [
      "    Rank  Year  Points\n",
      "0     21  2034     896\n",
      "1     22  2035     809\n",
      "2     22  2034     883\n",
      "3     23  2035     693\n",
      "4     23  2034     761\n",
      "5     24  2035     832\n",
      "6     21  2036     776\n",
      "7     21  2037     808\n",
      "8     22  2036     714\n",
      "9     24  2034     721\n",
      "10    21  2035     824\n",
      "11    22  2037     710\n"
     ]
    }
   ],
   "source": [
    "grouped=df.groupby('Team')\n",
    "score=lambda x:x+20\n",
    "#score=lambda x:(x-x.mean())/x.std()*10\n",
    "print(grouped.transform(score))\n"
   ]
  },
  {
   "cell_type": "code",
   "execution_count": 22,
   "id": "bac442c2-ae51-4d51-9a8b-8c977c42dcb6",
   "metadata": {},
   "outputs": [
    {
     "name": "stdout",
     "output_type": "stream",
     "text": [
      "0     21\n",
      "1     22\n",
      "2     22\n",
      "3     23\n",
      "4     23\n",
      "5     24\n",
      "6     21\n",
      "7     21\n",
      "8     22\n",
      "9     24\n",
      "10    21\n",
      "11    22\n",
      "Name: Rank, dtype: int64\n"
     ]
    }
   ],
   "source": [
    "print(grouped['Rank'].transform(score))"
   ]
  },
  {
   "cell_type": "markdown",
   "id": "d1928c70-f6f1-405e-bf1c-f9b7e7e8aff9",
   "metadata": {},
   "source": [
    "Filtration"
   ]
  },
  {
   "cell_type": "code",
   "execution_count": 29,
   "id": "25616d37-b98c-48f3-a0e5-c9b9669dd66f",
   "metadata": {},
   "outputs": [
    {
     "name": "stdout",
     "output_type": "stream",
     "text": [
      "      Team  Rank  Year  Points\n",
      "0   Riders     1  2014     876\n",
      "1   Riders     2  2015     789\n",
      "4    Kings     3  2014     741\n",
      "5    Kings     4  2015     812\n",
      "6    Kings     1  2016     756\n",
      "7    Kings     1  2017     788\n",
      "8   Riders     2  2016     694\n",
      "11  Riders     2  2017     690\n"
     ]
    }
   ],
   "source": [
    "print(df.groupby('Team').filter(lambda x: len(x)>=3))"
   ]
  },
  {
   "cell_type": "code",
   "execution_count": 33,
   "id": "8b4d55d4-b27a-461d-9905-1c9c60be843c",
   "metadata": {},
   "outputs": [],
   "source": [
    "\n",
    "#data=pd.read_csv(\"C://Users//ALWAYSRAMESH//Downloads.//ds_salaries.csv\")\n",
    "#print(data)"
   ]
  },
  {
   "cell_type": "code",
   "execution_count": 32,
   "id": "3c73301f-bd5d-4332-acbe-28db099043f3",
   "metadata": {},
   "outputs": [
    {
     "name": "stdout",
     "output_type": "stream",
     "text": [
      "        id                              belongs_to_collection    budget  \\\n",
      "0        1  [{'id': 313576, 'name': 'Hot Tub Time Machine ...  14000000   \n",
      "1        2  [{'id': 107674, 'name': 'The Princess Diaries ...  40000000   \n",
      "2        3                                                NaN   3300000   \n",
      "3        4                                                NaN   1200000   \n",
      "4        5                                                NaN         0   \n",
      "...    ...                                                ...       ...   \n",
      "2995  2996                                                NaN         0   \n",
      "2996  2997                                                NaN         0   \n",
      "2997  2998                                                NaN  65000000   \n",
      "2998  2999                                                NaN  42000000   \n",
      "2999  3000                                                NaN  35000000   \n",
      "\n",
      "                                                 genres  \\\n",
      "0                        [{'id': 35, 'name': 'Comedy'}]   \n",
      "1     [{'id': 35, 'name': 'Comedy'}, {'id': 18, 'nam...   \n",
      "2                         [{'id': 18, 'name': 'Drama'}]   \n",
      "3     [{'id': 53, 'name': 'Thriller'}, {'id': 18, 'n...   \n",
      "4     [{'id': 28, 'name': 'Action'}, {'id': 53, 'nam...   \n",
      "...                                                 ...   \n",
      "2995  [{'id': 35, 'name': 'Comedy'}, {'id': 10749, '...   \n",
      "2996  [{'id': 18, 'name': 'Drama'}, {'id': 10402, 'n...   \n",
      "2997  [{'id': 80, 'name': 'Crime'}, {'id': 28, 'name...   \n",
      "2998  [{'id': 35, 'name': 'Comedy'}, {'id': 10749, '...   \n",
      "2999  [{'id': 53, 'name': 'Thriller'}, {'id': 28, 'n...   \n",
      "\n",
      "                               homepage    imdb_id original_language  \\\n",
      "0                                   NaN  tt2637294                en   \n",
      "1                                   NaN  tt0368933                en   \n",
      "2     http://sonyclassics.com/whiplash/  tt2582802                en   \n",
      "3            http://kahaanithefilm.com/  tt1821480                hi   \n",
      "4                                   NaN  tt1380152                ko   \n",
      "...                                 ...        ...               ...   \n",
      "2995                                NaN  tt0109403                en   \n",
      "2996                                NaN  tt2364975                sv   \n",
      "2997                                NaN  tt0116908                en   \n",
      "2998     http://www.alongcamepolly.com/  tt0343135                en   \n",
      "2999   http://www.abductionthefilm.com/  tt1600195                en   \n",
      "\n",
      "                                original_title  \\\n",
      "0                       Hot Tub Time Machine 2   \n",
      "1     The Princess Diaries 2: Royal Engagement   \n",
      "2                                     Whiplash   \n",
      "3                                      Kahaani   \n",
      "4                                         마린보이   \n",
      "...                                        ...   \n",
      "2995                                   Chasers   \n",
      "2996                               Vi är bäst!   \n",
      "2997                   The Long Kiss Goodnight   \n",
      "2998                          Along Came Polly   \n",
      "2999                                 Abduction   \n",
      "\n",
      "                                               overview  popularity  ...  \\\n",
      "0     When Lou, who has become the \"father of the In...    6.575393  ...   \n",
      "1     Mia Thermopolis is now a college graduate and ...    8.248895  ...   \n",
      "2     Under the direction of a ruthless instructor, ...   64.299990  ...   \n",
      "3     Vidya Bagchi (Vidya Balan) arrives in Kolkata ...    3.174936  ...   \n",
      "4     Marine Boy is the story of a former national s...    1.148070  ...   \n",
      "...                                                 ...         ...  ...   \n",
      "2995  Military men Rock Reilly and Eddie Devane are ...    9.853270  ...   \n",
      "2996  Three girls in 1980s Stockholm decide to form ...    3.727996  ...   \n",
      "2997  Samantha Caine, suburban homemaker, is the ide...   14.482345  ...   \n",
      "2998  Reuben Feffer is a guy who's spent his entire ...   15.725542  ...   \n",
      "2999  A young man sets out to uncover the truth abou...   10.512109  ...   \n",
      "\n",
      "     release_date runtime                                   spoken_languages  \\\n",
      "0         2/20/15    93.0           [{'iso_639_1': 'en', 'name': 'English'}]   \n",
      "1          8/6/04   113.0           [{'iso_639_1': 'en', 'name': 'English'}]   \n",
      "2        10/10/14   105.0           [{'iso_639_1': 'en', 'name': 'English'}]   \n",
      "3          3/9/12   122.0  [{'iso_639_1': 'en', 'name': 'English'}, {'iso...   \n",
      "4          2/5/09   118.0           [{'iso_639_1': 'ko', 'name': '한국어/조선말'}]   \n",
      "...           ...     ...                                                ...   \n",
      "2995      4/22/94   102.0           [{'iso_639_1': 'en', 'name': 'English'}]   \n",
      "2996      3/28/13   102.0           [{'iso_639_1': 'sv', 'name': 'svenska'}]   \n",
      "2997     10/11/96   120.0           [{'iso_639_1': 'en', 'name': 'English'}]   \n",
      "2998      1/16/04    90.0           [{'iso_639_1': 'en', 'name': 'English'}]   \n",
      "2999      9/22/11   106.0           [{'iso_639_1': 'en', 'name': 'English'}]   \n",
      "\n",
      "        status                                            tagline  \\\n",
      "0     Released  The Laws of Space and Time are About to be Vio...   \n",
      "1     Released  It can take a lifetime to find true love; she'...   \n",
      "2     Released    The road to greatness can take you to the edge.   \n",
      "3     Released                                                NaN   \n",
      "4     Released                                                NaN   \n",
      "...        ...                                                ...   \n",
      "2995  Released  It was supposed to be a routine prisoner trans...   \n",
      "2996  Released                                                NaN   \n",
      "2997  Released               What's forgotten is not always gone.   \n",
      "2998  Released  For the most cautious man on Earth, life is ab...   \n",
      "2999  Released          They stole his life. He's taking it back.   \n",
      "\n",
      "                                         title  \\\n",
      "0                       Hot Tub Time Machine 2   \n",
      "1     The Princess Diaries 2: Royal Engagement   \n",
      "2                                     Whiplash   \n",
      "3                                      Kahaani   \n",
      "4                                   Marine Boy   \n",
      "...                                        ...   \n",
      "2995                                   Chasers   \n",
      "2996                          We Are the Best!   \n",
      "2997                   The Long Kiss Goodnight   \n",
      "2998                          Along Came Polly   \n",
      "2999                                 Abduction   \n",
      "\n",
      "                                               Keywords  \\\n",
      "0     [{'id': 4379, 'name': 'time travel'}, {'id': 9...   \n",
      "1     [{'id': 2505, 'name': 'coronation'}, {'id': 42...   \n",
      "2     [{'id': 1416, 'name': 'jazz'}, {'id': 1523, 'n...   \n",
      "3     [{'id': 10092, 'name': 'mystery'}, {'id': 1054...   \n",
      "4                                                   NaN   \n",
      "...                                                 ...   \n",
      "2995  [{'id': 378, 'name': 'prison'}, {'id': 572, 'n...   \n",
      "2996  [{'id': 1192, 'name': 'sweden'}, {'id': 4470, ...   \n",
      "2997  [{'id': 441, 'name': 'assassination'}, {'id': ...   \n",
      "2998  [{'id': 966, 'name': 'beach'}, {'id': 2676, 'n...   \n",
      "2999  [{'id': 591, 'name': 'cia'}, {'id': 822, 'name...   \n",
      "\n",
      "                                                   cast  \\\n",
      "0     [{'cast_id': 4, 'character': 'Lou', 'credit_id...   \n",
      "1     [{'cast_id': 1, 'character': 'Mia Thermopolis'...   \n",
      "2     [{'cast_id': 5, 'character': 'Andrew Neimann',...   \n",
      "3     [{'cast_id': 1, 'character': 'Vidya Bagchi', '...   \n",
      "4     [{'cast_id': 3, 'character': 'Chun-soo', 'cred...   \n",
      "...                                                 ...   \n",
      "2995  [{'cast_id': 2, 'character': 'Rock Reilly', 'c...   \n",
      "2996  [{'cast_id': 5, 'character': 'Bobo', 'credit_i...   \n",
      "2997  [{'cast_id': 10, 'character': 'Samantha Caine ...   \n",
      "2998  [{'cast_id': 8, 'character': 'Reuben Feffer', ...   \n",
      "2999  [{'cast_id': 2, 'character': 'Nathan Harper', ...   \n",
      "\n",
      "                                                   crew    revenue  \n",
      "0     [{'credit_id': '59ac067c92514107af02c8c8', 'de...   12314651  \n",
      "1     [{'credit_id': '52fe43fe9251416c7502563d', 'de...   95149435  \n",
      "2     [{'credit_id': '54d5356ec3a3683ba0000039', 'de...   13092000  \n",
      "3     [{'credit_id': '52fe48779251416c9108d6eb', 'de...   16000000  \n",
      "4     [{'credit_id': '52fe464b9251416c75073b43', 'de...    3923970  \n",
      "...                                                 ...        ...  \n",
      "2995  [{'credit_id': '52fe4494c3a368484e02ac7d', 'de...    1596687  \n",
      "2996  [{'credit_id': '5716b72ac3a3686678012c84', 'de...     180590  \n",
      "2997  [{'credit_id': '52fe443a9251416c7502d579', 'de...   89456761  \n",
      "2998  [{'credit_id': '556f817b9251410866000a63', 'de...  171963386  \n",
      "2999  [{'credit_id': '5391990d0e0a260fb5001629', 'de...   82087155  \n",
      "\n",
      "[3000 rows x 23 columns]\n"
     ]
    }
   ],
   "source": [
    "data=pd.read_csv(\"C://Users//ALWAYSRAMESH//Downloads.//imdb_data.csv\")\n",
    "print(data)"
   ]
  },
  {
   "cell_type": "code",
   "execution_count": null,
   "id": "93879c66-8413-413b-93f2-b969e7f071f8",
   "metadata": {},
   "outputs": [],
   "source": []
  }
 ],
 "metadata": {
  "kernelspec": {
   "display_name": "Python 3 (ipykernel)",
   "language": "python",
   "name": "python3"
  },
  "language_info": {
   "codemirror_mode": {
    "name": "ipython",
    "version": 3
   },
   "file_extension": ".py",
   "mimetype": "text/x-python",
   "name": "python",
   "nbconvert_exporter": "python",
   "pygments_lexer": "ipython3",
   "version": "3.12.4"
  }
 },
 "nbformat": 4,
 "nbformat_minor": 5
}
