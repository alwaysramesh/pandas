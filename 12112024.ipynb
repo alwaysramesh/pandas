{
 "cells": [
  {
   "cell_type": "code",
   "execution_count": 1,
   "id": "c611fe44-b708-445f-9064-e83ca81648e5",
   "metadata": {},
   "outputs": [],
   "source": [
    "import pandas as pd\n",
    "import numpy as np"
   ]
  },
  {
   "cell_type": "code",
   "execution_count": 6,
   "id": "1ca942ed-2957-4270-b332-de9c6b413808",
   "metadata": {},
   "outputs": [
    {
     "name": "stdout",
     "output_type": "stream",
     "text": [
      "a    1.0\n",
      "b    2.0\n",
      "c    3.0\n",
      "d    NaN\n",
      "Name: one, dtype: float64\n",
      "\n",
      "   one  two\n",
      "a  1.0    1\n",
      "b  2.0    2\n",
      "c  3.0    3\n",
      "d  NaN    4\n"
     ]
    }
   ],
   "source": [
    "d={'one':pd.Series([1,2,3],index=['a','b','c']),'two':pd.Series([1,2,3,4],index=['a','b','c','d'])}\n",
    "df=pd.DataFrame(d)\n",
    "print(df['one'])\n",
    "print()\n",
    "print(df)"
   ]
  },
  {
   "cell_type": "code",
   "execution_count": 10,
   "id": "30aac618-5523-45ed-9f41-049786526a78",
   "metadata": {},
   "outputs": [
    {
     "name": "stdout",
     "output_type": "stream",
     "text": [
      "Adding  new column by passing as Series:\n",
      "\n",
      "   one  two  three\n",
      "a  1.0    1   10.0\n",
      "b  2.0    2   20.0\n",
      "c  3.0    3   30.0\n",
      "d  NaN    4    NaN\n",
      "Adding\n",
      "   one  two  three  four\n",
      "a  1.0    1   10.0  11.0\n",
      "b  2.0    2   20.0  22.0\n",
      "c  3.0    3   30.0  33.0\n",
      "d  NaN    4    NaN   NaN\n"
     ]
    }
   ],
   "source": [
    "d={'one':pd.Series([1,2,3],index=['a','b','c']),'two':pd.Series([1,2,3,4],index=['a','b','c','d'])}\n",
    "df=pd.DataFrame(d)\n",
    "print(\"Adding  new column by passing as Series:\")\n",
    "df['three']=pd.Series([10,20,30],index=['a','b','c'])\n",
    "print()\n",
    "print(df)\n",
    "print(\"Adding new column using existing column in DataFrame\")\n",
    "df['four']=df['one']+df['three']\n",
    "print(df)"
   ]
  },
  {
   "cell_type": "code",
   "execution_count": 11,
   "id": "e5ea0347-eb23-475f-84a1-4ebb31b42e4d",
   "metadata": {},
   "outputs": [
    {
     "name": "stdout",
     "output_type": "stream",
     "text": [
      "Adding  new column by passing as Series:\n",
      "\n",
      "   one  two  three\n",
      "a  1.0    1   10.0\n",
      "b  2.0    2   20.0\n",
      "c  3.0    3    NaN\n",
      "d  NaN    4    NaN\n",
      "Adding new column using existing column in DataFrame\n",
      "   one  two  three  four\n",
      "a  1.0    1   10.0  11.0\n",
      "b  2.0    2   20.0  22.0\n",
      "c  3.0    3    NaN   NaN\n",
      "d  NaN    4    NaN   NaN\n"
     ]
    }
   ],
   "source": [
    "d={'one':pd.Series([1,2,3],index=['a','b','c']),'two':pd.Series([1,2,3,4],index=['a','b','c','d'])}\n",
    "df=pd.DataFrame(d)\n",
    "print(\"Adding  new column by passing as Series:\")\n",
    "df['three']=pd.Series([10,20],index=['a','b'])\n",
    "print()\n",
    "print(df)\n",
    "print(\"Adding new column using existing column in DataFrame\")\n",
    "df['four']=df['one']+df['three']\n",
    "print(df)"
   ]
  },
  {
   "cell_type": "code",
   "execution_count": 16,
   "id": "c9dbb8f2-eb50-4ff4-9399-bff93969f381",
   "metadata": {},
   "outputs": [
    {
     "name": "stdout",
     "output_type": "stream",
     "text": [
      "Our dataframe is:\n",
      "   one  two  three\n",
      "a  1.0    1   10.0\n",
      "b  2.0    2   20.0\n",
      "c  3.0    3    NaN\n",
      "d  NaN    4    NaN\n",
      "\n",
      "Deleting the first column using del function\n",
      "   two  three\n",
      "a    1   10.0\n",
      "b    2   20.0\n",
      "c    3    NaN\n",
      "d    4    NaN\n",
      "\n",
      "Deleting pop functiion\n",
      "   three\n",
      "a   10.0\n",
      "b   20.0\n",
      "c    NaN\n",
      "d    NaN\n"
     ]
    }
   ],
   "source": [
    "d={'one':pd.Series([1,2,3],index=['a','b','c']),'two':pd.Series([1,2,3,4],index=['a','b','c','d']),'three':pd.Series([10,20],index=['a','b'])}\n",
    "df=pd.DataFrame(d)\n",
    "print(\"Our dataframe is:\")\n",
    "print(df)\n",
    "print()\n",
    "print(\"Deleting the first column using del function\")\n",
    "del df['one']\n",
    "print(df)\n",
    "print()\n",
    "print(\"Deleting pop functiion\")\n",
    "df.pop('two')\n",
    "print(df)"
   ]
  },
  {
   "cell_type": "code",
   "execution_count": null,
   "id": "91fa3c29-a789-4704-9d3e-0a5c3ee8e257",
   "metadata": {},
   "outputs": [],
   "source": []
  },
  {
   "cell_type": "code",
   "execution_count": null,
   "id": "2518b16e-2c94-4f0b-89f2-557ecc7d85dc",
   "metadata": {},
   "outputs": [],
   "source": []
  },
  {
   "cell_type": "code",
   "execution_count": 21,
   "id": "baa43cb0-1fec-41be-beb0-2b1ad2cbb38d",
   "metadata": {},
   "outputs": [
    {
     "name": "stdout",
     "output_type": "stream",
     "text": [
      "Our dataframe is:\n",
      "   one  two  three\n",
      "a  1.0    1   10.0\n",
      "b  2.0    2   20.0\n",
      "c  3.0    3   30.0\n",
      "d  NaN    4    NaN\n",
      "Deleting another column using drop function:\n",
      "   one  three\n",
      "a  1.0   10.0\n",
      "b  2.0   20.0\n",
      "c  3.0   30.0\n",
      "d  NaN    NaN\n"
     ]
    }
   ],
   "source": [
    "\n",
    "d = {'one':pd.Series([1,2,3],index= ['a','b','c']),'two':pd.Series([1,2,3,4],index = ['a','b','c','d']),'three' : pd.Series([10,20,30],index = ['a','b','c'])}\n",
    "df = pd.DataFrame(d)\n",
    "print(\"Our dataframe is:\")\n",
    "print(df)\n",
    "print(\"Deleting another column using drop function:\")\n",
    "df.drop('two',axis = 1,inplace = True)\n",
    "print(df)"
   ]
  },
  {
   "cell_type": "code",
   "execution_count": null,
   "id": "0a39c7ec-2b0f-45dd-9ad8-7a6235278eea",
   "metadata": {},
   "outputs": [],
   "source": []
  }
 ],
 "metadata": {
  "kernelspec": {
   "display_name": "Python 3 (ipykernel)",
   "language": "python",
   "name": "python3"
  },
  "language_info": {
   "codemirror_mode": {
    "name": "ipython",
    "version": 3
   },
   "file_extension": ".py",
   "mimetype": "text/x-python",
   "name": "python",
   "nbconvert_exporter": "python",
   "pygments_lexer": "ipython3",
   "version": "3.12.4"
  }
 },
 "nbformat": 4,
 "nbformat_minor": 5
}
