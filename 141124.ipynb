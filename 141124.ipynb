{
 "cells": [
  {
   "cell_type": "code",
   "execution_count": 2,
   "id": "8ebcc87e-1546-46a3-90b9-7a2188233735",
   "metadata": {},
   "outputs": [],
   "source": [
    "import pandas as pd\n",
    "import numpy as np"
   ]
  },
  {
   "cell_type": "code",
   "execution_count": 24,
   "id": "f600c2b0-ad00-4754-9f30-37767fef8a1d",
   "metadata": {},
   "outputs": [
    {
     "name": "stdout",
     "output_type": "stream",
     "text": [
      "   a  b\n",
      "0  1  2\n",
      "1  3  4\n",
      "2  5  6\n",
      "3  7  8\n"
     ]
    }
   ],
   "source": [
    "df=pd.DataFrame([[1,2],[3,4]],columns=['a','b'])\n",
    "df2=pd.DataFrame([[5,6],[7,8]],columns=['a','b'])\n",
    "df=pd.concat([df, df2],ignore_index=True)\n",
    "#drop rows with label 0\n",
    "#df=df.drop(0)\n",
    "print(df)"
   ]
  },
  {
   "cell_type": "code",
   "execution_count": 26,
   "id": "c2299279-2c6f-4836-9d04-1a31cadfd2c0",
   "metadata": {},
   "outputs": [
    {
     "name": "stdout",
     "output_type": "stream",
     "text": [
      "   a  b\n",
      "1  3  4\n",
      "2  5  6\n",
      "3  7  8\n"
     ]
    }
   ],
   "source": [
    "df=pd.DataFrame([[1,2],[3,4]],columns=['a','b'])\n",
    "df2=pd.DataFrame([[5,6],[7,8]],columns=['a','b'])\n",
    "df=pd.concat([df, df2],ignore_index=True)\n",
    "#drop rows with label 0\n",
    "print(df)\n",
    "df=df.drop(0)\n",
    "print(df)"
   ]
  },
  {
   "cell_type": "code",
   "execution_count": 31,
   "id": "08e8c806-4db1-4cce-ba7e-93362e35288a",
   "metadata": {},
   "outputs": [
    {
     "name": "stdout",
     "output_type": "stream",
     "text": [
      "0     19.50\n",
      "1     16.80\n",
      "2    234.80\n",
      "3     35.89\n",
      "4    342.12\n",
      "dtype: float64\n",
      "\n",
      "3     35.89\n",
      "4    342.12\n",
      "dtype: float64\n",
      "\n",
      "2    234.80\n",
      "3     35.89\n",
      "dtype: float64\n"
     ]
    }
   ],
   "source": [
    "sr=pd.Series([19.5,16.8,234.8,35.89,342.12])\n",
    "print(sr)\n",
    "S1=sr.truncate(before=3)\n",
    "S=sr.truncate(before=2,after=3)\n",
    "print()\n",
    "print(S1)\n",
    "print()\n",
    "print(S)"
   ]
  },
  {
   "cell_type": "code",
   "execution_count": 44,
   "id": "a1a8542d-4483-4a97-94c6-54dc8035a3ce",
   "metadata": {},
   "outputs": [
    {
     "name": "stdout",
     "output_type": "stream",
     "text": [
      "0 name      aparna\n",
      "degree       MBA\n",
      "score         90\n",
      "Name: 0, dtype: object\n",
      "1 name      pankaj\n",
      "degree       BCA\n",
      "score         40\n",
      "Name: 1, dtype: object\n",
      "2 name      sudhir\n",
      "degree    M.Tech\n",
      "score         80\n",
      "Name: 2, dtype: object\n",
      "3 name      Geeku\n",
      "degree      MBA\n",
      "score        98\n",
      "Name: 3, dtype: object\n"
     ]
    }
   ],
   "source": [
    "dict= {'name':[\"aparna\", \"pankaj\", \"sudhir\", \"Geeku\"],\n",
    "        'degree':[\"MBA\", \"BCA\", \"M.Tech\", \"MBA\"],\n",
    "        'score':[90, 40, 80,98]}\n",
    "df= pd.DataFrame(dict)\n",
    "for i, j in df.iterrows():\n",
    "    print(i, j)"
   ]
  },
  {
   "cell_type": "code",
   "execution_count": 55,
   "id": "67b70075-c9b1-4cbb-b3e2-f6b69c7cd026",
   "metadata": {},
   "outputs": [
    {
     "name": "stdout",
     "output_type": "stream",
     "text": [
      "aparna , pankaj , sudhir , Geeku , MBA , BCA , M.Tech , MBA , 90 , 40 , 80 , 98 , "
     ]
    }
   ],
   "source": [
    "dict= {'name':[\"aparna\", \"pankaj\", \"sudhir\", \"Geeku\"],\n",
    "        'degree':[\"MBA\", \"BCA\", \"M.Tech\", \"MBA\"],\n",
    "        'score':[90, 40, 80,98]}\n",
    "\n",
    "#for i, r in dict.items():\n",
    "    #print(i, r)\n",
    "for f in dict:\n",
    "    for r in dict[f]:\n",
    "        print(r,end=\" , \")"
   ]
  },
  {
   "cell_type": "code",
   "execution_count": 56,
   "id": "e8136e48-cecb-425e-b75a-509fed0c30e5",
   "metadata": {},
   "outputs": [
    {
     "name": "stdout",
     "output_type": "stream",
     "text": [
      "name ['aparna', 'pankaj', 'sudhir', 'Geeku']\n",
      "degree ['MBA', 'BCA', 'M.Tech', 'MBA']\n",
      "score [90, 40, 80, 98]\n"
     ]
    }
   ],
   "source": [
    "dict= {'name':[\"aparna\", \"pankaj\", \"sudhir\", \"Geeku\"],\n",
    "        'degree':[\"MBA\", \"BCA\", \"M.Tech\", \"MBA\"],\n",
    "        'score':[90, 40, 80,98]}\n",
    "\n",
    "for i, r in dict.items():\n",
    "    print(i, r)"
   ]
  },
  {
   "cell_type": "code",
   "execution_count": null,
   "id": "97923ec2-374b-4ea0-9a21-b425fc2e6338",
   "metadata": {},
   "outputs": [],
   "source": []
  }
 ],
 "metadata": {
  "kernelspec": {
   "display_name": "Python 3 (ipykernel)",
   "language": "python",
   "name": "python3"
  },
  "language_info": {
   "codemirror_mode": {
    "name": "ipython",
    "version": 3
   },
   "file_extension": ".py",
   "mimetype": "text/x-python",
   "name": "python",
   "nbconvert_exporter": "python",
   "pygments_lexer": "ipython3",
   "version": "3.12.4"
  }
 },
 "nbformat": 4,
 "nbformat_minor": 5
}
