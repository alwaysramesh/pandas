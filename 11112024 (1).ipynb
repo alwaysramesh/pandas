{
 "cells": [
  {
   "cell_type": "code",
   "execution_count": 1,
   "id": "e47d4bfa-dc14-4f90-8b30-959a31a4d100",
   "metadata": {},
   "outputs": [],
   "source": [
    "import pandas as pd\n",
    "import numpy as np"
   ]
  },
  {
   "cell_type": "code",
   "execution_count": 4,
   "id": "d328f8d2-a7bc-40be-a720-3ecd6efca26b",
   "metadata": {},
   "outputs": [
    {
     "name": "stdout",
     "output_type": "stream",
     "text": [
      "   0\n",
      "0  1\n",
      "1  2\n",
      "2  3\n",
      "3  4\n",
      "4  5\n",
      "\n",
      "     Name  Age\n",
      "0    amit   20\n",
      "1  saurav   22\n",
      "2    caly   23\n"
     ]
    }
   ],
   "source": [
    "data=[1,2,3,4,5]\n",
    "df=pd.DataFrame(data)\n",
    "print(df)\n",
    "print()\n",
    "\n",
    "data=[['amit',20],['saurav',22],['caly',23]]\n",
    "df=pd.DataFrame(data,columns=['Name','Age'])\n",
    "print(df)                 #pd ek class hai"
   ]
  },
  {
   "cell_type": "code",
   "execution_count": 11,
   "id": "fdcac6b1-2bd2-4179-9863-4aa80f5461cc",
   "metadata": {},
   "outputs": [
    {
     "name": "stdout",
     "output_type": "stream",
     "text": [
      "   Name   Age\n",
      "0   1.0  10.0\n",
      "1   3.0  12.0\n",
      "2   9.0  13.0\n"
     ]
    }
   ],
   "source": [
    "import pandas as pd\n",
    "\n",
    "data = [[1, 10], [3, 12], [9, 13]]\n",
    "df = pd.DataFrame(data, columns=['Name', 'Age'],dtype=float)\n",
    "print(df)\n"
   ]
  },
  {
   "cell_type": "code",
   "execution_count": 10,
   "id": "1bd6d009-1849-4956-a57d-69af0c756678",
   "metadata": {},
   "outputs": [
    {
     "name": "stdout",
     "output_type": "stream",
     "text": [
      "     Name  Age\n",
      "a    amit   20\n",
      "b  saurav   22\n",
      "c    caly   23\n"
     ]
    }
   ],
   "source": [
    "data=[['amit',20],['saurav',22],['caly',23]]\n",
    "df=pd.DataFrame(data,columns=['Name','Age'],index=['a','b','c'])\n",
    "print(df)"
   ]
  },
  {
   "cell_type": "code",
   "execution_count": 12,
   "id": "5d5eb8e1-525e-4e08-b032-64996f49426b",
   "metadata": {},
   "outputs": [
    {
     "name": "stdout",
     "output_type": "stream",
     "text": [
      "    Name  Age\n",
      "0    Tom   28\n",
      "1   Jack   34\n",
      "2  Steve   29\n",
      "3  Ricky   42\n"
     ]
    }
   ],
   "source": [
    "data={'Name':['Tom','Jack','Steve','Ricky'],'Age':[28,34,29,42]}\n",
    "df=pd.DataFrame(data)\n",
    "print(df)"
   ]
  },
  {
   "cell_type": "code",
   "execution_count": 14,
   "id": "8a2752ac-9f28-451f-b791-d48c75182516",
   "metadata": {},
   "outputs": [
    {
     "ename": "SyntaxError",
     "evalue": "unterminated string literal (detected at line 2) (2986923003.py, line 2)",
     "output_type": "error",
     "traceback": [
      "\u001b[1;36m  Cell \u001b[1;32mIn[14], line 2\u001b[1;36m\u001b[0m\n\u001b[1;33m    df=pd.DataFrame(data,index=['rank1','rank2,'rank3','rank4'])\u001b[0m\n\u001b[1;37m                                                             ^\u001b[0m\n\u001b[1;31mSyntaxError\u001b[0m\u001b[1;31m:\u001b[0m unterminated string literal (detected at line 2)\n"
     ]
    }
   ],
   "source": [
    "data={'Name':['Tom','Jack','Steve','Ricky'],'Age':[28,34,29,42]}\n",
    "df=pd.DataFrame(data,index=['rank1','rank2,'rank3','rank4'])\n",
    "print(df)"
   ]
  },
  {
   "cell_type": "code",
   "execution_count": 17,
   "id": "1e64ea5f-3463-4eaa-9f61-1e73dd60b4cc",
   "metadata": {},
   "outputs": [
    {
     "name": "stdout",
     "output_type": "stream",
     "text": [
      "   a  b    c\n",
      "0  1  2  NaN\n",
      "1  5  6  4.0\n"
     ]
    }
   ],
   "source": [
    "data=[{'a':1,'b':2},{'a':5,'b':6,'c':4}]\n",
    "df=pd.DataFrame(data)\n",
    "print(df)"
   ]
  },
  {
   "cell_type": "code",
   "execution_count": 21,
   "id": "bdc3bea4-396a-4d68-84cc-fc26d7ebf1fb",
   "metadata": {},
   "outputs": [
    {
     "name": "stdout",
     "output_type": "stream",
     "text": [
      "   one  two\n",
      "a  1.0    1\n",
      "b  2.0    2\n",
      "c  3.0    3\n",
      "d  NaN    4\n"
     ]
    }
   ],
   "source": [
    "d={'one':pd.Series([1,2,3],index=['a','b','c']),'two':pd.Series([1,2,3,4],index=['a','b','c','d'])}\n",
    "df=pd.DataFrame(d)\n",
    "print(df)"
   ]
  },
  {
   "cell_type": "code",
   "execution_count": null,
   "id": "79568932-9e82-44cd-b460-4e4e724846a7",
   "metadata": {},
   "outputs": [],
   "source": []
  }
 ],
 "metadata": {
  "kernelspec": {
   "display_name": "Python 3 (ipykernel)",
   "language": "python",
   "name": "python3"
  },
  "language_info": {
   "codemirror_mode": {
    "name": "ipython",
    "version": 3
   },
   "file_extension": ".py",
   "mimetype": "text/x-python",
   "name": "python",
   "nbconvert_exporter": "python",
   "pygments_lexer": "ipython3",
   "version": "3.12.4"
  }
 },
 "nbformat": 4,
 "nbformat_minor": 5
}
