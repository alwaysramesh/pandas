{
 "cells": [
  {
   "cell_type": "markdown",
   "id": "fbddcf51-acd3-4882-9d12-e9485049c439",
   "metadata": {},
   "source": [
    "Filtration"
   ]
  },
  {
   "cell_type": "markdown",
   "id": "f0cdf4fe-4a31-40ce-bed8-d18b34ef1cdf",
   "metadata": {},
   "source": [
    "What is Filtration in Pandas?\n",
    "Filtration in pandas is a process used to filter data from a DataFrame or a Series based on a condition. It is commonly used to exclude or include specific rows or groups that meet certain criteria.\n",
    "\n",
    "In the context of grouped data, groupby filtration allows you to filter groups based on aggregate conditions (e.g., removing groups where the sum, mean, or count does not meet a specific threshold). This is different from filter() in regular DataFrames, which is applied row-wise."
   ]
  },
  {
   "cell_type": "code",
   "execution_count": 1,
   "id": "ba0b673e-2ca1-4da7-9c8b-e24a8d3b70a8",
   "metadata": {},
   "outputs": [],
   "source": [
    "import pandas as pd\n"
   ]
  },
  {
   "cell_type": "code",
   "execution_count": 16,
   "id": "2012bd25-d3de-472e-a164-f1a8fb662f2e",
   "metadata": {},
   "outputs": [
    {
     "name": "stdout",
     "output_type": "stream",
     "text": [
      "      Team  Rank  Points\n",
      "0   Ramesh     1      13\n",
      "1    Rahul     2      42\n",
      "2   Ramesh     4      53\n",
      "3  Prakash     3      65\n",
      "4   Sanjay     2      42\n",
      "5   Sanjay     1      45\n",
      "6   Ramesh     3      76\n",
      "7   Pankaj     2      98\n"
     ]
    }
   ],
   "source": [
    "ipl_data=pd.DataFrame({'Team':[\"Ramesh\",\"Rahul\",\"Ramesh\",\"Prakash\",\"Sanjay\",\"Sanjay\",\"Ramesh\",\"Pankaj\"],\n",
    "                      'Rank':[1,2,4,3,2,1,3,2,],\n",
    "                      'Points':[13,42,53,65,42,45,76,98]})\n",
    "print(ipl_data)"
   ]
  },
  {
   "cell_type": "code",
   "execution_count": 17,
   "id": "fdbe9b31-d8c6-4c5a-86f7-61fe96eeffa5",
   "metadata": {},
   "outputs": [
    {
     "name": "stdout",
     "output_type": "stream",
     "text": [
      "     Team  Rank  Points\n",
      "0  Ramesh     1      13\n",
      "2  Ramesh     4      53\n",
      "6  Ramesh     3      76\n"
     ]
    }
   ],
   "source": [
    "print(ipl_data.groupby(\"Team\").filter(lambda x:len(x)>=3))"
   ]
  },
  {
   "cell_type": "code",
   "execution_count": null,
   "id": "cfb3845f-621d-4460-b859-1919172a9762",
   "metadata": {},
   "outputs": [],
   "source": []
  }
 ],
 "metadata": {
  "kernelspec": {
   "display_name": "Python 3 (ipykernel)",
   "language": "python",
   "name": "python3"
  },
  "language_info": {
   "codemirror_mode": {
    "name": "ipython",
    "version": 3
   },
   "file_extension": ".py",
   "mimetype": "text/x-python",
   "name": "python",
   "nbconvert_exporter": "python",
   "pygments_lexer": "ipython3",
   "version": "3.12.4"
  }
 },
 "nbformat": 4,
 "nbformat_minor": 5
}
