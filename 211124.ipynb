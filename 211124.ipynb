{
 "cells": [
  {
   "cell_type": "code",
   "execution_count": 7,
   "id": "c87a886c-5c7e-48ae-b244-4d287df98747",
   "metadata": {},
   "outputs": [],
   "source": [
    "import pandas as pd\n",
    "import numpy as np"
   ]
  },
  {
   "cell_type": "code",
   "execution_count": 29,
   "id": "aa99709d-40a2-4645-b1e8-cb980c81a2c0",
   "metadata": {},
   "outputs": [
    {
     "name": "stdout",
     "output_type": "stream",
     "text": [
      "      Team  Rank  Year  Points\n",
      "0   Riders     1  2014     876\n",
      "1   Riders     2  2015     789\n",
      "2   Devils     2  2014     863\n",
      "3   Devils     3  2015     673\n",
      "4    Kings     3  2014     741\n",
      "5    Kings     4  2015     812\n",
      "6    Kings     1  2016     756\n",
      "7    Kings     1  2017     788\n",
      "8   Riders     2  2016     694\n",
      "9   Royals     4  2014     701\n",
      "10  Royals     1  2015     804\n",
      "11  Riders     2  2017     690\n"
     ]
    }
   ],
   "source": [
    "ipl_data={'Team':['Riders','Riders','Devils','Devils','Kings','Kings','Kings','Kings','Riders','Royals','Royals','Riders'],\n",
    "          'Rank':[1,2,2,3,3,4,1,1,2,4,1,2],\n",
    "          'Year':[2014,2015,2014,2015,2014,2015,2016,2017,2016,2014,2015,2017],\n",
    "          'Points':[876,789,863,673,741,812,756,788,694,701,804,690]}\n",
    "df=pd.DataFrame(ipl_data)\n",
    "print(df)"
   ]
  },
  {
   "cell_type": "code",
   "execution_count": 30,
   "id": "55d2c572-2b36-4640-b08c-dfc154063b69",
   "metadata": {},
   "outputs": [
    {
     "name": "stdout",
     "output_type": "stream",
     "text": [
      "<pandas.core.groupby.generic.DataFrameGroupBy object at 0x00000269BBBE6A20>\n",
      "{'Devils': [2, 3], 'Kings': [4, 5, 6, 7], 'Riders': [0, 1, 8, 11], 'Royals': [9, 10]}\n"
     ]
    }
   ],
   "source": [
    "df1=df.groupby('Team')\n",
    "print(df1)\n",
    "df1=df.groupby('Team').groups\n",
    "print(df1)"
   ]
  },
  {
   "cell_type": "code",
   "execution_count": 28,
   "id": "b8b3e37d-b092-4aa6-874d-9a8d3faca8b7",
   "metadata": {},
   "outputs": [],
   "source": [
    "#print(df.groupby(['Team','Year']).groups"
   ]
  },
  {
   "cell_type": "code",
   "execution_count": 34,
   "id": "110e3e13-0642-4a07-a9a0-1093dbcfb580",
   "metadata": {},
   "outputs": [
    {
     "name": "stdout",
     "output_type": "stream",
     "text": [
      "        Team  Year  Points\n",
      "Rank                      \n",
      "1     Royals  2017     876\n",
      "2     Riders  2017     863\n",
      "3      Kings  2015     741\n",
      "4     Royals  2015     812\n"
     ]
    }
   ],
   "source": [
    "df2=df.groupby('Rank').max()\n",
    "#grouped.mean()\n",
    "print(df2)\n",
    "#team ko alphabetical ascii max value se liya hai rank "
   ]
  },
  {
   "cell_type": "code",
   "execution_count": null,
   "id": "92745609-73e8-4884-aae8-0eed5b063c94",
   "metadata": {},
   "outputs": [],
   "source": [
    "\n"
   ]
  },
  {
   "cell_type": "code",
   "execution_count": null,
   "id": "f0f02ced-e2a9-4335-b001-8ee5d58c8f25",
   "metadata": {},
   "outputs": [],
   "source": []
  }
 ],
 "metadata": {
  "kernelspec": {
   "display_name": "Python 3 (ipykernel)",
   "language": "python",
   "name": "python3"
  },
  "language_info": {
   "codemirror_mode": {
    "name": "ipython",
    "version": 3
   },
   "file_extension": ".py",
   "mimetype": "text/x-python",
   "name": "python",
   "nbconvert_exporter": "python",
   "pygments_lexer": "ipython3",
   "version": "3.12.4"
  }
 },
 "nbformat": 4,
 "nbformat_minor": 5
}
