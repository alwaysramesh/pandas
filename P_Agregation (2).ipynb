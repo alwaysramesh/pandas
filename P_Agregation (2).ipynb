{
 "cells": [
  {
   "cell_type": "markdown",
   "id": "d744278b-13f8-41a7-89a6-6dd9943b0968",
   "metadata": {},
   "source": [
    "#Agregation"
   ]
  },
  {
   "cell_type": "markdown",
   "id": "3bec770e-29f3-4762-bf1b-52ee23d9cc05",
   "metadata": {},
   "source": [
    "Aggregation in pandas refers to performing a computation on a set of values to return a single summary statistc. Such as Sum, count,\n",
    "mean,min,max etc. \n",
    "Aggregation are often used to summarizr data after grouping it or to analyze specific columns of a DataFrame."
   ]
  },
  {
   "cell_type": "code",
   "execution_count": 6,
   "id": "9a385fd2-6214-4550-bb20-4550ba09c69c",
   "metadata": {},
   "outputs": [],
   "source": [
    "import pandas as pd"
   ]
  },
  {
   "cell_type": "code",
   "execution_count": 15,
   "id": "b059cf08-4823-4807-ae1e-6f5ab4ab461f",
   "metadata": {},
   "outputs": [
    {
     "name": "stdout",
     "output_type": "stream",
     "text": [
      "   A   B   c\n",
      "1  2  32  34\n"
     ]
    }
   ],
   "source": [
    "ipl_data=pd.DataFrame({'A':[1,2,3,4,5],'B':[112,32,43,45,3],\n",
    "                      'c':[23,34,45,56,23]})\n",
    "g=ipl_data.groupby('A')\n",
    "print(g.get_group(2))"
   ]
  },
  {
   "cell_type": "code",
   "execution_count": 16,
   "id": "920c6dbe-a815-4045-a3e3-80539c816c13",
   "metadata": {},
   "outputs": [
    {
     "name": "stdout",
     "output_type": "stream",
     "text": [
      "A     3.0\n",
      "B    47.0\n",
      "c    36.2\n",
      "dtype: float64\n"
     ]
    }
   ],
   "source": [
    "print(ipl_data.mean())"
   ]
  },
  {
   "cell_type": "code",
   "execution_count": 17,
   "id": "a77bce9b-a7f1-44b6-b749-5f403094dc97",
   "metadata": {},
   "outputs": [
    {
     "name": "stdout",
     "output_type": "stream",
     "text": [
      "A     1\n",
      "B     3\n",
      "c    23\n",
      "dtype: int64\n"
     ]
    }
   ],
   "source": [
    "print(ipl_data.min())"
   ]
  },
  {
   "cell_type": "code",
   "execution_count": 18,
   "id": "cf13d391-00bb-46ab-9384-3d23fe518b1e",
   "metadata": {},
   "outputs": [
    {
     "name": "stdout",
     "output_type": "stream",
     "text": [
      "A     15\n",
      "B    235\n",
      "c    181\n",
      "dtype: int64\n"
     ]
    }
   ],
   "source": [
    "print(ipl_data.sum())"
   ]
  },
  {
   "cell_type": "code",
   "execution_count": 19,
   "id": "d75b3f2c-f9b9-41ad-9658-e4d46f0f587d",
   "metadata": {},
   "outputs": [
    {
     "name": "stdout",
     "output_type": "stream",
     "text": [
      "A    5\n",
      "B    5\n",
      "c    5\n",
      "dtype: int64\n"
     ]
    }
   ],
   "source": [
    "print(ipl_data.count())"
   ]
  },
  {
   "cell_type": "code",
   "execution_count": 20,
   "id": "ed5ee905-d78b-4c44-8fa8-c7596e408cbc",
   "metadata": {},
   "outputs": [
    {
     "name": "stdout",
     "output_type": "stream",
     "text": [
      "<class 'pandas.core.frame.DataFrame'>\n",
      "RangeIndex: 5 entries, 0 to 4\n",
      "Data columns (total 3 columns):\n",
      " #   Column  Non-Null Count  Dtype\n",
      "---  ------  --------------  -----\n",
      " 0   A       5 non-null      int64\n",
      " 1   B       5 non-null      int64\n",
      " 2   c       5 non-null      int64\n",
      "dtypes: int64(3)\n",
      "memory usage: 252.0 bytes\n",
      "None\n"
     ]
    }
   ],
   "source": [
    "print(ipl_data.info())"
   ]
  },
  {
   "cell_type": "code",
   "execution_count": 21,
   "id": "9178e3b3-9533-411d-8f82-df5180eb3e6e",
   "metadata": {},
   "outputs": [
    {
     "name": "stdout",
     "output_type": "stream",
     "text": [
      "              A           B          c\n",
      "count  5.000000    5.000000   5.000000\n",
      "mean   3.000000   47.000000  36.200000\n",
      "std    1.581139   40.018746  14.342245\n",
      "min    1.000000    3.000000  23.000000\n",
      "25%    2.000000   32.000000  23.000000\n",
      "50%    3.000000   43.000000  34.000000\n",
      "75%    4.000000   45.000000  45.000000\n",
      "max    5.000000  112.000000  56.000000\n"
     ]
    }
   ],
   "source": [
    "print(ipl_data.describe())"
   ]
  },
  {
   "cell_type": "code",
   "execution_count": 23,
   "id": "ac7221f0-81b7-432c-8db0-67c82089a382",
   "metadata": {},
   "outputs": [
    {
     "name": "stdout",
     "output_type": "stream",
     "text": [
      "A     1.581139\n",
      "B    40.018746\n",
      "c    14.342245\n",
      "dtype: float64\n"
     ]
    }
   ],
   "source": [
    "print(ipl_data.std())"
   ]
  },
  {
   "cell_type": "code",
   "execution_count": null,
   "id": "d645865b-56fc-4096-875d-7abc1733e044",
   "metadata": {},
   "outputs": [],
   "source": []
  }
 ],
 "metadata": {
  "kernelspec": {
   "display_name": "Python 3 (ipykernel)",
   "language": "python",
   "name": "python3"
  },
  "language_info": {
   "codemirror_mode": {
    "name": "ipython",
    "version": 3
   },
   "file_extension": ".py",
   "mimetype": "text/x-python",
   "name": "python",
   "nbconvert_exporter": "python",
   "pygments_lexer": "ipython3",
   "version": "3.12.4"
  }
 },
 "nbformat": 4,
 "nbformat_minor": 5
}
