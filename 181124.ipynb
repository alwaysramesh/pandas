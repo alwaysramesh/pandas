{
 "cells": [
  {
   "cell_type": "code",
   "execution_count": 2,
   "id": "c14cfab3-057e-45e5-a189-33e016718e2e",
   "metadata": {},
   "outputs": [],
   "source": [
    "import pandas as pd\n",
    "import numpy as np\n",
    "from numpy.random import randn"
   ]
  },
  {
   "cell_type": "code",
   "execution_count": 25,
   "id": "fcdb8390-9fc5-493b-8b16-283fd020357d",
   "metadata": {},
   "outputs": [
    {
     "name": "stdout",
     "output_type": "stream",
     "text": [
      "          0         1\n",
      "0  1.065240  0.470074\n",
      "1  0.062554  0.750266\n",
      "2  0.177402 -0.444823\n",
      "3 -0.626544 -1.415346\n",
      "4  2.385943 -1.222285\n",
      "5  0.931821 -1.179092\n"
     ]
    }
   ],
   "source": [
    "outer=['a','a','a','b','b','b','b'] \n",
    "inner=[1,2,3,1,2,3]\n",
    "h_index=list(zip(outer,inner))\n",
    "h_index=pd.MultiIndex.from_tuples(h_index)\n",
    "#print(h_index)\n",
    "df1=pd.DataFrame(randn(6,2))\n",
    "print(df1)"
   ]
  },
  {
   "cell_type": "code",
   "execution_count": 26,
   "id": "276ba33f-1f3b-4280-85ed-a3e71019e48e",
   "metadata": {},
   "outputs": [
    {
     "name": "stdout",
     "output_type": "stream",
     "text": [
      "            0         1\n",
      "a 1 -0.651429  0.508531\n",
      "  2 -0.235991  1.446321\n",
      "  3 -0.108755  0.605438\n",
      "b 1  0.067373 -0.106191\n",
      "  2  0.550789  0.781876\n",
      "  3 -0.169683  0.364672\n"
     ]
    }
   ],
   "source": [
    "df1=pd.DataFrame(randn(6,2),h_index)\n",
    "print(df1)"
   ]
  },
  {
   "cell_type": "code",
   "execution_count": 27,
   "id": "61c5a336-0df9-465c-890f-a83a0acd243a",
   "metadata": {},
   "outputs": [
    {
     "name": "stdout",
     "output_type": "stream",
     "text": [
      "            A         B\n",
      "a 1  1.955180  1.614700\n",
      "  2  0.563739 -1.642410\n",
      "  3 -0.671829 -0.181601\n",
      "b 1  0.343729  0.344929\n",
      "  2  0.378413 -0.045983\n",
      "  3 -0.050433  1.251334\n"
     ]
    }
   ],
   "source": [
    "df1=pd.DataFrame(randn(6,2),h_index,['A','B'])\n",
    "print(df1)"
   ]
  },
  {
   "cell_type": "code",
   "execution_count": 28,
   "id": "c6bbabc1-86ba-42f0-ac82-85c6790e6297",
   "metadata": {},
   "outputs": [
    {
     "data": {
      "text/html": [
       "<div>\n",
       "<style scoped>\n",
       "    .dataframe tbody tr th:only-of-type {\n",
       "        vertical-align: middle;\n",
       "    }\n",
       "\n",
       "    .dataframe tbody tr th {\n",
       "        vertical-align: top;\n",
       "    }\n",
       "\n",
       "    .dataframe thead th {\n",
       "        text-align: right;\n",
       "    }\n",
       "</style>\n",
       "<table border=\"1\" class=\"dataframe\">\n",
       "  <thead>\n",
       "    <tr style=\"text-align: right;\">\n",
       "      <th></th>\n",
       "      <th>A</th>\n",
       "      <th>B</th>\n",
       "    </tr>\n",
       "  </thead>\n",
       "  <tbody>\n",
       "    <tr>\n",
       "      <th>1</th>\n",
       "      <td>1.955180</td>\n",
       "      <td>1.614700</td>\n",
       "    </tr>\n",
       "    <tr>\n",
       "      <th>2</th>\n",
       "      <td>0.563739</td>\n",
       "      <td>-1.642410</td>\n",
       "    </tr>\n",
       "    <tr>\n",
       "      <th>3</th>\n",
       "      <td>-0.671829</td>\n",
       "      <td>-0.181601</td>\n",
       "    </tr>\n",
       "  </tbody>\n",
       "</table>\n",
       "</div>"
      ],
      "text/plain": [
       "          A         B\n",
       "1  1.955180  1.614700\n",
       "2  0.563739 -1.642410\n",
       "3 -0.671829 -0.181601"
      ]
     },
     "execution_count": 28,
     "metadata": {},
     "output_type": "execute_result"
    }
   ],
   "source": [
    "df1.loc['a']"
   ]
  },
  {
   "cell_type": "code",
   "execution_count": 29,
   "id": "7cb919e5-b975-4749-a676-4ab9ebcb9069",
   "metadata": {},
   "outputs": [
    {
     "data": {
      "text/plain": [
       "-1.642409707224035"
      ]
     },
     "execution_count": 29,
     "metadata": {},
     "output_type": "execute_result"
    }
   ],
   "source": [
    "df1.iloc[1].iloc[1]"
   ]
  },
  {
   "cell_type": "code",
   "execution_count": 30,
   "id": "dee9c005-ac56-4f71-b1fc-0a6532a73bec",
   "metadata": {},
   "outputs": [
    {
     "data": {
      "text/plain": [
       "1.6147004630754287"
      ]
     },
     "execution_count": 30,
     "metadata": {},
     "output_type": "execute_result"
    }
   ],
   "source": [
    "df1.loc['a'].loc[1].loc['B']"
   ]
  },
  {
   "cell_type": "code",
   "execution_count": 31,
   "id": "5acca93d-ced7-462a-9c07-d707be50dfb8",
   "metadata": {},
   "outputs": [
    {
     "name": "stdout",
     "output_type": "stream",
     "text": [
      "            A         B\n",
      "X Y                    \n",
      "a 1  1.955180  1.614700\n",
      "  2  0.563739 -1.642410\n",
      "  3 -0.671829 -0.181601\n",
      "b 1  0.343729  0.344929\n",
      "  2  0.378413 -0.045983\n",
      "  3 -0.050433  1.251334\n"
     ]
    }
   ],
   "source": [
    "df1.index.names=['X','Y']\n",
    "print(df1)"
   ]
  },
  {
   "cell_type": "code",
   "execution_count": 32,
   "id": "d0cd1374-6ac1-41c1-b90e-d2d93225fc0b",
   "metadata": {},
   "outputs": [
    {
     "data": {
      "text/plain": [
       "A    1.95518\n",
       "B    1.61470\n",
       "Name: 1, dtype: float64"
      ]
     },
     "execution_count": 32,
     "metadata": {},
     "output_type": "execute_result"
    }
   ],
   "source": [
    "df1.loc['a'].loc[1]"
   ]
  },
  {
   "cell_type": "code",
   "execution_count": 36,
   "id": "0e58f270-5073-455a-bf6c-d4fac0610041",
   "metadata": {},
   "outputs": [
    {
     "name": "stdout",
     "output_type": "stream",
     "text": [
      "       col1      col2      col3\n",
      "0  2.173728  0.869691  0.799211\n",
      "1  0.574968 -0.697913  0.720851\n",
      "2  0.482945 -0.242623 -0.683483\n",
      "3  0.669809 -1.538147  1.531536\n",
      "4  0.552121 -0.429623  0.238161\n",
      "5  0.192949 -0.048000 -1.676754\n"
     ]
    }
   ],
   "source": [
    "df2 = pd.DataFrame(np.random.randn(6, 3), columns=['col1', 'col2', 'col3'])\n",
    "print(df2)"
   ]
  },
  {
   "cell_type": "code",
   "execution_count": 39,
   "id": "7fb87918-06fa-4479-a365-87274d9f24f9",
   "metadata": {},
   "outputs": [
    {
     "name": "stdout",
     "output_type": "stream",
     "text": [
      "After\n",
      "              c1        c2      col3\n",
      "apple   2.173728  0.869691  0.799211\n",
      "banana  0.574968 -0.697913  0.720851\n",
      "durian  0.482945 -0.242623 -0.683483\n",
      "3       0.669809 -1.538147  1.531536\n",
      "4       0.552121 -0.429623  0.238161\n",
      "5       0.192949 -0.048000 -1.676754\n"
     ]
    }
   ],
   "source": [
    "print(\"After \")\n",
    "df3=df2.rename(columns={'col1':'c1','col2':'c2'},index={0:'apple',1:'banana',2:'durian'})\n",
    "print(df3)"
   ]
  },
  {
   "cell_type": "markdown",
   "id": "78565d2d-875d-4370-afa1-e4f7203fa86c",
   "metadata": {},
   "source": [
    "reindex"
   ]
  },
  {
   "cell_type": "code",
   "execution_count": 46,
   "id": "519ceeae-35c8-461b-b615-e7e4253d9ebd",
   "metadata": {},
   "outputs": [
    {
     "name": "stdout",
     "output_type": "stream",
     "text": [
      "          x         y         z         w\n",
      "a -0.320749  1.487877 -2.063291  0.847401\n",
      "b -0.270847  0.198170 -1.027793 -0.555212\n",
      "c -0.461783 -1.413650 -0.145200  0.681142\n",
      "d  0.017342  0.031504 -0.362744 -0.386327\n",
      "e  2.178117  0.632828 -1.351758  0.681764\n",
      "\n",
      "          x         y   B   D\n",
      "a -0.320749  1.487877 NaN NaN\n",
      "b -0.270847  0.198170 NaN NaN\n",
      "c -0.461783 -1.413650 NaN NaN\n",
      "d  0.017342  0.031504 NaN NaN\n",
      "e  2.178117  0.632828 NaN NaN\n",
      "\n",
      "           x         y   B   D\n",
      "aA       NaN       NaN NaN NaN\n",
      "b  -0.270847  0.198170 NaN NaN\n",
      "c  -0.461783 -1.413650 NaN NaN\n",
      "d   0.017342  0.031504 NaN NaN\n",
      "e   2.178117  0.632828 NaN NaN\n"
     ]
    }
   ],
   "source": [
    "df=pd.DataFrame(randn(5,4),['a','b','c','d','e'],['x','y','z','w'])\n",
    "print(df)\n",
    "DF=df.reindex(index=['a','b','c','d','e'],columns=['x','y','B','D'])\n",
    "print()\n",
    "print(DF)\n",
    "DF=df.reindex(index=['aA','b','c','d','e'],columns=['x','y','B','D'])\n",
    "print()\n",
    "print(DF)\n",
    "#change the order"
   ]
  },
  {
   "cell_type": "code",
   "execution_count": 47,
   "id": "b8f0d8b8-ab17-458e-b9df-b99eacbb7628",
   "metadata": {},
   "outputs": [
    {
     "name": "stdout",
     "output_type": "stream",
     "text": [
      "     A    B     C\n",
      "0  1.0    a  10.0\n",
      "1  2.0  NaN   NaN\n",
      "2  NaN    c   NaN\n"
     ]
    }
   ],
   "source": [
    "df=pd.DataFrame({'A':[1,2,np.nan],'B':['a',np.nan,'c'],'C':[10,np.nan,np.nan]})\n",
    "print(df)"
   ]
  },
  {
   "cell_type": "code",
   "execution_count": 53,
   "id": "b1e60ef3-1492-4c87-8bbc-dadc20b9de2d",
   "metadata": {},
   "outputs": [
    {
     "name": "stdout",
     "output_type": "stream",
     "text": [
      "       A      B\n",
      "0  False  False\n",
      "1  False   True\n",
      "2   True  False\n"
     ]
    }
   ],
   "source": [
    "print(df[['A','B']].isnull())"
   ]
  },
  {
   "cell_type": "code",
   "execution_count": null,
   "id": "0c801e75-81d3-44fb-902b-067249e09cf3",
   "metadata": {},
   "outputs": [],
   "source": []
  }
 ],
 "metadata": {
  "kernelspec": {
   "display_name": "Python 3 (ipykernel)",
   "language": "python",
   "name": "python3"
  },
  "language_info": {
   "codemirror_mode": {
    "name": "ipython",
    "version": 3
   },
   "file_extension": ".py",
   "mimetype": "text/x-python",
   "name": "python",
   "nbconvert_exporter": "python",
   "pygments_lexer": "ipython3",
   "version": "3.12.4"
  }
 },
 "nbformat": 4,
 "nbformat_minor": 5
}
