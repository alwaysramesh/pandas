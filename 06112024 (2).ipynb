{
 "cells": [
  {
   "cell_type": "code",
   "execution_count": 4,
   "id": "19c077a9-b17c-433c-97c9-240bbfeecfc3",
   "metadata": {},
   "outputs": [],
   "source": [
    "import pandas as pd\n",
    "import numpy as np"
   ]
  },
  {
   "cell_type": "code",
   "execution_count": 7,
   "id": "82483a99-35e5-4cb0-a038-599b1a13903e",
   "metadata": {},
   "outputs": [
    {
     "name": "stdout",
     "output_type": "stream",
     "text": [
      "0    2\n",
      "1    4\n",
      "2    6\n",
      "3    8\n",
      "dtype: int64\n"
     ]
    }
   ],
   "source": [
    "first_series=pd.Series([2,4,6,8])\n",
    "print(first_series)"
   ]
  },
  {
   "cell_type": "code",
   "execution_count": 14,
   "id": "d99d5440-93b8-404e-beae-31a3040cd6c5",
   "metadata": {},
   "outputs": [
    {
     "name": "stdout",
     "output_type": "stream",
     "text": [
      "a    2\n",
      "b    3\n",
      "d    5\n",
      "e    6\n",
      "f    8\n",
      "Name: Number, dtype: int64\n"
     ]
    }
   ],
   "source": [
    "number_series=pd.Series([2,3,5,6,8],index=['a','b','d','e','f'],name='Number')\n",
    "print(number_series) "
   ]
  },
  {
   "cell_type": "code",
   "execution_count": 16,
   "id": "14b4b7af-47a5-4dc8-ae98-5b7295e30a94",
   "metadata": {},
   "outputs": [
    {
     "name": "stdout",
     "output_type": "stream",
     "text": [
      "8\n",
      "6\n"
     ]
    },
    {
     "name": "stderr",
     "output_type": "stream",
     "text": [
      "C:\\Users\\ALWAYSRAMESH\\AppData\\Local\\Temp\\ipykernel_3648\\40277028.py:1: FutureWarning: Series.__getitem__ treating keys as positions is deprecated. In a future version, integer keys will always be treated as labels (consistent with DataFrame behavior). To access a value by position, use `ser.iloc[pos]`\n",
      "  print(number_series[-1])\n"
     ]
    }
   ],
   "source": [
    "print(number_series[-1])\n",
    "\n",
    "print(number_series['e'])"
   ]
  },
  {
   "cell_type": "code",
   "execution_count": 20,
   "id": "82727bd8-c316-45a4-8096-75a7cd4a743c",
   "metadata": {},
   "outputs": [
    {
     "name": "stdout",
     "output_type": "stream",
     "text": [
      "0    10\n",
      "1    10\n",
      "2    10\n",
      "3    10\n",
      "4    10\n",
      "5    10\n",
      "dtype: int64\n",
      "\n",
      "0    0\n",
      "1    1\n",
      "2    2\n",
      "3    3\n",
      "4    4\n",
      "5    5\n",
      "6    6\n",
      "7    7\n",
      "8    8\n",
      "9    9\n",
      "dtype: int64\n"
     ]
    }
   ],
   "source": [
    "ser=pd.Series(10, index=[0,1,2,3,4,5])\n",
    "print(ser)\n",
    "print()\n",
    "ser=pd.Series(range(10))\n",
    "print(ser)\n"
   ]
  },
  {
   "cell_type": "code",
   "execution_count": 28,
   "id": "b474a051-cea0-4e57-a1b4-832e02ded312",
   "metadata": {},
   "outputs": [
    {
     "name": "stdout",
     "output_type": "stream",
     "text": [
      "a     1\n",
      "b     4\n",
      "c     7\n",
      "d    10\n",
      "e    13\n",
      "f    16\n",
      "g    19\n",
      "dtype: int64\n"
     ]
    }
   ],
   "source": [
    "ser=pd.Series(range(1,20,3),index=[x for x in 'abcdefg'])\n",
    "print(ser)"
   ]
  },
  {
   "cell_type": "code",
   "execution_count": null,
   "id": "b66b9de9-80f4-4253-a002-34fdca92e8c7",
   "metadata": {},
   "outputs": [],
   "source": []
  }
 ],
 "metadata": {
  "kernelspec": {
   "display_name": "Python 3 (ipykernel)",
   "language": "python",
   "name": "python3"
  },
  "language_info": {
   "codemirror_mode": {
    "name": "ipython",
    "version": 3
   },
   "file_extension": ".py",
   "mimetype": "text/x-python",
   "name": "python",
   "nbconvert_exporter": "python",
   "pygments_lexer": "ipython3",
   "version": "3.12.4"
  }
 },
 "nbformat": 4,
 "nbformat_minor": 5
}
