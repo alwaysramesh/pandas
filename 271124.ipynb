{
 "cells": [
  {
   "cell_type": "code",
   "execution_count": 1,
   "id": "9a447297-4082-43c5-8f0d-c7acb6e70f9b",
   "metadata": {},
   "outputs": [],
   "source": [
    "import pandas as pd\n",
    "import numpy as np"
   ]
  },
  {
   "cell_type": "code",
   "execution_count": 4,
   "id": "6e43f9ea-cac4-4062-aae5-82ef34f56da0",
   "metadata": {},
   "outputs": [],
   "source": [
    "#df=pd.read_csv('Downloads/imdb_data.csv')\n",
    "#print(df)"
   ]
  },
  {
   "cell_type": "code",
   "execution_count": 3,
   "id": "08a87ae5-889d-4d77-8a6a-22df375eb608",
   "metadata": {},
   "outputs": [
    {
     "name": "stdout",
     "output_type": "stream",
     "text": [
      "     Unnamed: 0  work_year experience_level employment_type  \\\n",
      "0             0       2020               MI              FT   \n",
      "1             1       2020               SE              FT   \n",
      "2             2       2020               SE              FT   \n",
      "3             3       2020               MI              FT   \n",
      "4             4       2020               SE              FT   \n",
      "..          ...        ...              ...             ...   \n",
      "602         602       2022               SE              FT   \n",
      "603         603       2022               SE              FT   \n",
      "604         604       2022               SE              FT   \n",
      "605         605       2022               SE              FT   \n",
      "606         606       2022               MI              FT   \n",
      "\n",
      "                      job_title  salary salary_currency  salary_in_usd  \\\n",
      "0                Data Scientist   70000             EUR          79833   \n",
      "1    Machine Learning Scientist  260000             USD         260000   \n",
      "2             Big Data Engineer   85000             GBP         109024   \n",
      "3          Product Data Analyst   20000             USD          20000   \n",
      "4     Machine Learning Engineer  150000             USD         150000   \n",
      "..                          ...     ...             ...            ...   \n",
      "602               Data Engineer  154000             USD         154000   \n",
      "603               Data Engineer  126000             USD         126000   \n",
      "604                Data Analyst  129000             USD         129000   \n",
      "605                Data Analyst  150000             USD         150000   \n",
      "606                AI Scientist  200000             USD         200000   \n",
      "\n",
      "    employee_residence  remote_ratio company_location company_size  \n",
      "0                   DE             0               DE            L  \n",
      "1                   JP             0               JP            S  \n",
      "2                   GB            50               GB            M  \n",
      "3                   HN             0               HN            S  \n",
      "4                   US            50               US            L  \n",
      "..                 ...           ...              ...          ...  \n",
      "602                 US           100               US            M  \n",
      "603                 US           100               US            M  \n",
      "604                 US             0               US            M  \n",
      "605                 US           100               US            M  \n",
      "606                 IN           100               US            L  \n",
      "\n",
      "[607 rows x 12 columns]\n"
     ]
    }
   ],
   "source": [
    "df1=pd.read_csv(\"Downloads/ds_salaries.csv\")\n",
    "print(df1)"
   ]
  },
  {
   "cell_type": "code",
   "execution_count": 15,
   "id": "8feca707-d591-446d-bf3c-99fdc997bdca",
   "metadata": {},
   "outputs": [
    {
     "name": "stdout",
     "output_type": "stream",
     "text": [
      "['Data Scientist' 'Machine Learning Scientist' 'Big Data Engineer'\n",
      " 'Product Data Analyst' 'Machine Learning Engineer' 'Data Analyst'\n",
      " 'Lead Data Scientist' 'Business Data Analyst' 'Lead Data Engineer'\n",
      " 'Lead Data Analyst' 'Data Engineer' 'Data Science Consultant'\n",
      " 'BI Data Analyst' 'Director of Data Science' 'Research Scientist'\n",
      " 'Machine Learning Manager' 'Data Engineering Manager'\n",
      " 'Machine Learning Infrastructure Engineer' 'ML Engineer' 'AI Scientist'\n",
      " 'Computer Vision Engineer' 'Principal Data Scientist'\n",
      " 'Data Science Manager' 'Head of Data' '3D Computer Vision Researcher'\n",
      " 'Data Analytics Engineer' 'Applied Data Scientist'\n",
      " 'Marketing Data Analyst' 'Cloud Data Engineer' 'Financial Data Analyst'\n",
      " 'Computer Vision Software Engineer' 'Director of Data Engineering'\n",
      " 'Data Science Engineer' 'Principal Data Engineer'\n",
      " 'Machine Learning Developer' 'Applied Machine Learning Scientist'\n",
      " 'Data Analytics Manager' 'Head of Data Science' 'Data Specialist'\n",
      " 'Data Architect' 'Finance Data Analyst' 'Principal Data Analyst'\n",
      " 'Big Data Architect' 'Staff Data Scientist' 'Analytics Engineer'\n",
      " 'ETL Developer' 'Head of Machine Learning' 'NLP Engineer'\n",
      " 'Lead Machine Learning Engineer' 'Data Analytics Lead']\n",
      "\n",
      "50\n"
     ]
    }
   ],
   "source": [
    "#Que.01 Find the number of unique job title\n",
    "#df[df['salary']==df['salary'].max()][['job_title','salary']]\n",
    "print(df1['job_title'].unique())\n",
    "print()\n",
    "\n",
    "print(df1['job_title'].nunique())"
   ]
  },
  {
   "cell_type": "code",
   "execution_count": 21,
   "id": "fcd2a37b-b502-4167-a02f-469d37753ee5",
   "metadata": {},
   "outputs": [
    {
     "ename": "KeyError",
     "evalue": "'Data Scientist'",
     "output_type": "error",
     "traceback": [
      "\u001b[1;31m---------------------------------------------------------------------------\u001b[0m",
      "\u001b[1;31mKeyError\u001b[0m                                  Traceback (most recent call last)",
      "File \u001b[1;32mC:\\ProgramData\\anaconda3\\Lib\\site-packages\\pandas\\core\\indexes\\base.py:3805\u001b[0m, in \u001b[0;36mIndex.get_loc\u001b[1;34m(self, key)\u001b[0m\n\u001b[0;32m   3804\u001b[0m \u001b[38;5;28;01mtry\u001b[39;00m:\n\u001b[1;32m-> 3805\u001b[0m     \u001b[38;5;28;01mreturn\u001b[39;00m \u001b[38;5;28mself\u001b[39m\u001b[38;5;241m.\u001b[39m_engine\u001b[38;5;241m.\u001b[39mget_loc(casted_key)\n\u001b[0;32m   3806\u001b[0m \u001b[38;5;28;01mexcept\u001b[39;00m \u001b[38;5;167;01mKeyError\u001b[39;00m \u001b[38;5;28;01mas\u001b[39;00m err:\n",
      "File \u001b[1;32mindex.pyx:167\u001b[0m, in \u001b[0;36mpandas._libs.index.IndexEngine.get_loc\u001b[1;34m()\u001b[0m\n",
      "File \u001b[1;32mindex.pyx:196\u001b[0m, in \u001b[0;36mpandas._libs.index.IndexEngine.get_loc\u001b[1;34m()\u001b[0m\n",
      "File \u001b[1;32mpandas\\\\_libs\\\\hashtable_class_helper.pxi:7081\u001b[0m, in \u001b[0;36mpandas._libs.hashtable.PyObjectHashTable.get_item\u001b[1;34m()\u001b[0m\n",
      "File \u001b[1;32mpandas\\\\_libs\\\\hashtable_class_helper.pxi:7089\u001b[0m, in \u001b[0;36mpandas._libs.hashtable.PyObjectHashTable.get_item\u001b[1;34m()\u001b[0m\n",
      "\u001b[1;31mKeyError\u001b[0m: 'Data Scientist'",
      "\nThe above exception was the direct cause of the following exception:\n",
      "\u001b[1;31mKeyError\u001b[0m                                  Traceback (most recent call last)",
      "Cell \u001b[1;32mIn[21], line 2\u001b[0m\n\u001b[0;32m      1\u001b[0m \u001b[38;5;66;03m# find the no. of DATa scientist in database \u001b[39;00m\n\u001b[1;32m----> 2\u001b[0m \u001b[38;5;28mprint\u001b[39m(df1[\u001b[38;5;124m'\u001b[39m\u001b[38;5;124mData Scientist\u001b[39m\u001b[38;5;124m'\u001b[39m]\u001b[38;5;241m.\u001b[39mshape(\u001b[38;5;241m0\u001b[39m))\n\u001b[0;32m      3\u001b[0m \u001b[38;5;28mprint\u001b[39m(df1[df1[\u001b[38;5;124m'\u001b[39m\u001b[38;5;124mJob_title\u001b[39m\u001b[38;5;124m'\u001b[39m]\u001b[38;5;241m==\u001b[39m\u001b[38;5;124m'\u001b[39m\u001b[38;5;124mData Scientist\u001b[39m\u001b[38;5;124m'\u001b[39m][\u001b[38;5;124m'\u001b[39m\u001b[38;5;124mSalary\u001b[39m\u001b[38;5;124m'\u001b[39m]\u001b[38;5;241m.\u001b[39mcount())\n",
      "File \u001b[1;32mC:\\ProgramData\\anaconda3\\Lib\\site-packages\\pandas\\core\\frame.py:4102\u001b[0m, in \u001b[0;36mDataFrame.__getitem__\u001b[1;34m(self, key)\u001b[0m\n\u001b[0;32m   4100\u001b[0m \u001b[38;5;28;01mif\u001b[39;00m \u001b[38;5;28mself\u001b[39m\u001b[38;5;241m.\u001b[39mcolumns\u001b[38;5;241m.\u001b[39mnlevels \u001b[38;5;241m>\u001b[39m \u001b[38;5;241m1\u001b[39m:\n\u001b[0;32m   4101\u001b[0m     \u001b[38;5;28;01mreturn\u001b[39;00m \u001b[38;5;28mself\u001b[39m\u001b[38;5;241m.\u001b[39m_getitem_multilevel(key)\n\u001b[1;32m-> 4102\u001b[0m indexer \u001b[38;5;241m=\u001b[39m \u001b[38;5;28mself\u001b[39m\u001b[38;5;241m.\u001b[39mcolumns\u001b[38;5;241m.\u001b[39mget_loc(key)\n\u001b[0;32m   4103\u001b[0m \u001b[38;5;28;01mif\u001b[39;00m is_integer(indexer):\n\u001b[0;32m   4104\u001b[0m     indexer \u001b[38;5;241m=\u001b[39m [indexer]\n",
      "File \u001b[1;32mC:\\ProgramData\\anaconda3\\Lib\\site-packages\\pandas\\core\\indexes\\base.py:3812\u001b[0m, in \u001b[0;36mIndex.get_loc\u001b[1;34m(self, key)\u001b[0m\n\u001b[0;32m   3807\u001b[0m     \u001b[38;5;28;01mif\u001b[39;00m \u001b[38;5;28misinstance\u001b[39m(casted_key, \u001b[38;5;28mslice\u001b[39m) \u001b[38;5;129;01mor\u001b[39;00m (\n\u001b[0;32m   3808\u001b[0m         \u001b[38;5;28misinstance\u001b[39m(casted_key, abc\u001b[38;5;241m.\u001b[39mIterable)\n\u001b[0;32m   3809\u001b[0m         \u001b[38;5;129;01mand\u001b[39;00m \u001b[38;5;28many\u001b[39m(\u001b[38;5;28misinstance\u001b[39m(x, \u001b[38;5;28mslice\u001b[39m) \u001b[38;5;28;01mfor\u001b[39;00m x \u001b[38;5;129;01min\u001b[39;00m casted_key)\n\u001b[0;32m   3810\u001b[0m     ):\n\u001b[0;32m   3811\u001b[0m         \u001b[38;5;28;01mraise\u001b[39;00m InvalidIndexError(key)\n\u001b[1;32m-> 3812\u001b[0m     \u001b[38;5;28;01mraise\u001b[39;00m \u001b[38;5;167;01mKeyError\u001b[39;00m(key) \u001b[38;5;28;01mfrom\u001b[39;00m \u001b[38;5;21;01merr\u001b[39;00m\n\u001b[0;32m   3813\u001b[0m \u001b[38;5;28;01mexcept\u001b[39;00m \u001b[38;5;167;01mTypeError\u001b[39;00m:\n\u001b[0;32m   3814\u001b[0m     \u001b[38;5;66;03m# If we have a listlike key, _check_indexing_error will raise\u001b[39;00m\n\u001b[0;32m   3815\u001b[0m     \u001b[38;5;66;03m#  InvalidIndexError. Otherwise we fall through and re-raise\u001b[39;00m\n\u001b[0;32m   3816\u001b[0m     \u001b[38;5;66;03m#  the TypeError.\u001b[39;00m\n\u001b[0;32m   3817\u001b[0m     \u001b[38;5;28mself\u001b[39m\u001b[38;5;241m.\u001b[39m_check_indexing_error(key)\n",
      "\u001b[1;31mKeyError\u001b[0m: 'Data Scientist'"
     ]
    }
   ],
   "source": [
    "# find the no. of DATa scientist in database \n",
    "print(df1['Data Scientist'].shape(0))\n",
    "print(df1[df1['Job_title']=='Data Scientist']['Salary'].count())"
   ]
  },
  {
   "cell_type": "markdown",
   "id": "130df44b-af1d-48a2-a73d-f4b902f1c611",
   "metadata": {},
   "source": [
    "#Qu.03 find the max salary of each job title\n",
    "print(df1.groupby('job_title').max())"
   ]
  },
  {
   "cell_type": "code",
   "execution_count": 24,
   "id": "3046a19c-017a-4da0-a8a4-e37c031ef5d5",
   "metadata": {},
   "outputs": [
    {
     "name": "stdout",
     "output_type": "stream",
     "text": [
      "job_title\n",
      "3D Computer Vision Researcher                 400000\n",
      "AI Scientist                                 1335000\n",
      "Analytics Engineer                            205300\n",
      "Applied Data Scientist                        380000\n",
      "Applied Machine Learning Scientist            423000\n",
      "BI Data Analyst                             11000000\n",
      "Big Data Architect                            125000\n",
      "Big Data Engineer                            1672000\n",
      "Business Data Analyst                        1400000\n",
      "Cloud Data Engineer                           160000\n",
      "Computer Vision Engineer                      180000\n",
      "Computer Vision Software Engineer             150000\n",
      "Data Analyst                                  450000\n",
      "Data Analytics Engineer                       110000\n",
      "Data Analytics Lead                           405000\n",
      "Data Analytics Manager                        150260\n",
      "Data Architect                                266400\n",
      "Data Engineer                                4450000\n",
      "Data Engineering Manager                      174000\n",
      "Data Science Consultant                       423000\n",
      "Data Science Engineer                         159500\n",
      "Data Science Manager                         7000000\n",
      "Data Scientist                              30400000\n",
      "Data Specialist                               165000\n",
      "Director of Data Engineering                  200000\n",
      "Director of Data Science                      325000\n",
      "ETL Developer                                  50000\n",
      "Finance Data Analyst                           45000\n",
      "Financial Data Analyst                        450000\n",
      "Head of Data                                  235000\n",
      "Head of Data Science                          224000\n",
      "Head of Machine Learning                     6000000\n",
      "Lead Data Analyst                            1450000\n",
      "Lead Data Engineer                            276000\n",
      "Lead Data Scientist                          3000000\n",
      "Lead Machine Learning Engineer                 80000\n",
      "ML Engineer                                  8500000\n",
      "Machine Learning Developer                    100000\n",
      "Machine Learning Engineer                    4900000\n",
      "Machine Learning Infrastructure Engineer      195000\n",
      "Machine Learning Manager                      157000\n",
      "Machine Learning Scientist                    260000\n",
      "Marketing Data Analyst                         75000\n",
      "NLP Engineer                                  240000\n",
      "Principal Data Analyst                        170000\n",
      "Principal Data Engineer                       600000\n",
      "Principal Data Scientist                      416000\n",
      "Product Data Analyst                          450000\n",
      "Research Scientist                            450000\n",
      "Staff Data Scientist                          105000\n",
      "Name: salary, dtype: int64\n"
     ]
    }
   ],
   "source": [
    "print(df1.groupby('job_title')['salary'].max())"
   ]
  },
  {
   "cell_type": "code",
   "execution_count": 27,
   "id": "e2ccaae9-7ae5-460d-9461-6a9907e0e0d4",
   "metadata": {},
   "outputs": [
    {
     "name": "stdout",
     "output_type": "stream",
     "text": [
      "job_title\n",
      "3D Computer Vision Researcher                 400000\n",
      "AI Scientist                                 1335000\n",
      "Analytics Engineer                            205300\n",
      "Applied Data Scientist                        380000\n",
      "Applied Machine Learning Scientist            423000\n",
      "BI Data Analyst                             11000000\n",
      "Big Data Architect                            125000\n",
      "Big Data Engineer                            1672000\n",
      "Business Data Analyst                        1400000\n",
      "Cloud Data Engineer                           160000\n",
      "Computer Vision Engineer                      180000\n",
      "Computer Vision Software Engineer             150000\n",
      "Data Analyst                                  450000\n",
      "Data Analytics Engineer                       110000\n",
      "Data Analytics Lead                           405000\n",
      "Data Analytics Manager                        150260\n",
      "Data Architect                                266400\n",
      "Data Engineer                                4450000\n",
      "Data Engineering Manager                      174000\n",
      "Data Science Consultant                       423000\n",
      "Data Science Engineer                         159500\n",
      "Data Science Manager                         7000000\n",
      "Data Scientist                              30400000\n",
      "Data Specialist                               165000\n",
      "Director of Data Engineering                  200000\n",
      "Director of Data Science                      325000\n",
      "ETL Developer                                  50000\n",
      "Finance Data Analyst                           45000\n",
      "Financial Data Analyst                        450000\n",
      "Head of Data                                  235000\n",
      "Head of Data Science                          224000\n",
      "Head of Machine Learning                     6000000\n",
      "Lead Data Analyst                            1450000\n",
      "Lead Data Engineer                            276000\n",
      "Lead Data Scientist                          3000000\n",
      "Lead Machine Learning Engineer                 80000\n",
      "ML Engineer                                  8500000\n",
      "Machine Learning Developer                    100000\n",
      "Machine Learning Engineer                    4900000\n",
      "Machine Learning Infrastructure Engineer      195000\n",
      "Machine Learning Manager                      157000\n",
      "Machine Learning Scientist                    260000\n",
      "Marketing Data Analyst                         75000\n",
      "NLP Engineer                                  240000\n",
      "Principal Data Analyst                        170000\n",
      "Principal Data Engineer                       600000\n",
      "Principal Data Scientist                      416000\n",
      "Product Data Analyst                          450000\n",
      "Research Scientist                            450000\n",
      "Staff Data Scientist                          105000\n",
      "Name: salary, dtype: int64\n"
     ]
    }
   ],
   "source": [
    "print(df1.groupby('job_title')['salary'].max())"
   ]
  },
  {
   "cell_type": "code",
   "execution_count": 30,
   "id": "312281b2-e355-41c6-bdcb-b76a49cf8440",
   "metadata": {},
   "outputs": [
    {
     "name": "stdout",
     "output_type": "stream",
     "text": [
      "job_title\n",
      "Data Scientist                              30400000\n",
      "BI Data Analyst                             11000000\n",
      "ML Engineer                                  8500000\n",
      "Data Science Manager                         7000000\n",
      "Head of Machine Learning                     6000000\n",
      "Machine Learning Engineer                    4900000\n",
      "Data Engineer                                4450000\n",
      "Lead Data Scientist                          3000000\n",
      "Big Data Engineer                            1672000\n",
      "Lead Data Analyst                            1450000\n",
      "Business Data Analyst                        1400000\n",
      "AI Scientist                                 1335000\n",
      "Principal Data Engineer                       600000\n",
      "Product Data Analyst                          450000\n",
      "Financial Data Analyst                        450000\n",
      "Data Analyst                                  450000\n",
      "Research Scientist                            450000\n",
      "Applied Machine Learning Scientist            423000\n",
      "Data Science Consultant                       423000\n",
      "Principal Data Scientist                      416000\n",
      "Data Analytics Lead                           405000\n",
      "3D Computer Vision Researcher                 400000\n",
      "Applied Data Scientist                        380000\n",
      "Director of Data Science                      325000\n",
      "Lead Data Engineer                            276000\n",
      "Data Architect                                266400\n",
      "Machine Learning Scientist                    260000\n",
      "NLP Engineer                                  240000\n",
      "Head of Data                                  235000\n",
      "Head of Data Science                          224000\n",
      "Analytics Engineer                            205300\n",
      "Director of Data Engineering                  200000\n",
      "Machine Learning Infrastructure Engineer      195000\n",
      "Computer Vision Engineer                      180000\n",
      "Data Engineering Manager                      174000\n",
      "Principal Data Analyst                        170000\n",
      "Data Specialist                               165000\n",
      "Cloud Data Engineer                           160000\n",
      "Data Science Engineer                         159500\n",
      "Machine Learning Manager                      157000\n",
      "Data Analytics Manager                        150260\n",
      "Computer Vision Software Engineer             150000\n",
      "Big Data Architect                            125000\n",
      "Data Analytics Engineer                       110000\n",
      "Staff Data Scientist                          105000\n",
      "Machine Learning Developer                    100000\n",
      "Lead Machine Learning Engineer                 80000\n",
      "Marketing Data Analyst                         75000\n",
      "ETL Developer                                  50000\n",
      "Finance Data Analyst                           45000\n",
      "Name: salary, dtype: int64\n"
     ]
    }
   ],
   "source": [
    "#Ascending order\n",
    "#column hamesha squre bracket se access hoga aur hamesha df ke baad function bracket hi hota hai\n",
    "\n",
    "ascending= df1.groupby('job_title')['salary'].max().sort_values(ascending=False)\n",
    "print(ascending)"
   ]
  },
  {
   "cell_type": "markdown",
   "id": "d92985ca-e724-43e7-a33b-a84e2211051d",
   "metadata": {},
   "source": [
    "how do you find no of rows and columns dataset\n",
    "information of dataset\n",
    "columns bs select karna hoga\n",
    "find the last 3 information of dataset= tail()\n",
    "perticular columns= double squre\n",
    "true false ans\n",
    "df==50k value display\n",
    "column ko remove = drope(), access=1\n",
    "add karna ho to df me squre bracket to add ho jayega\n",
    "implace=??? dubara run kaarte hai to fir se aa jata hi\n",
    "date wali chij date()\n"
   ]
  },
  {
   "cell_type": "code",
   "execution_count": 40,
   "id": "1cab5eb4-61f8-4b75-a8d4-4dc231acdcfc",
   "metadata": {},
   "outputs": [
    {
     "name": "stdout",
     "output_type": "stream",
     "text": [
      "DatetimeIndex(['2011-01-01', '2011-01-02', '2011-01-03', '2011-01-04',\n",
      "               '2011-01-05', '2011-01-06', '2011-01-07', '2011-01-08',\n",
      "               '2011-01-09'],\n",
      "              dtype='datetime64[ns]', freq='D')\n"
     ]
    }
   ],
   "source": [
    "print(pd.date_range('1/1/2011',periods=9))\n",
    "\n"
   ]
  },
  {
   "cell_type": "code",
   "execution_count": 41,
   "id": "bc6da835-d7d2-4e0e-8edb-e55c12884619",
   "metadata": {},
   "outputs": [
    {
     "name": "stdout",
     "output_type": "stream",
     "text": [
      "DatetimeIndex(['2011-01-31', '2011-02-28', '2011-03-31', '2011-04-30',\n",
      "               '2011-05-31', '2011-06-30', '2011-07-31', '2011-08-31',\n",
      "               '2011-09-30'],\n",
      "              dtype='datetime64[ns]', freq='ME')\n"
     ]
    },
    {
     "name": "stderr",
     "output_type": "stream",
     "text": [
      "C:\\Users\\ALWAYSRAMESH\\AppData\\Local\\Temp\\ipykernel_15488\\2836390948.py:1: FutureWarning: 'M' is deprecated and will be removed in a future version, please use 'ME' instead.\n",
      "  print(pd.date_range('1/1/2011',periods=9,freq='M'))\n"
     ]
    }
   ],
   "source": [
    "print(pd.date_range('1/1/2011',periods=9,freq='M'))\n",
    "\n"
   ]
  },
  {
   "cell_type": "code",
   "execution_count": 42,
   "id": "5b292d97-5d3d-49ab-8b15-31d551483d65",
   "metadata": {},
   "outputs": [
    {
     "name": "stdout",
     "output_type": "stream",
     "text": [
      "DatetimeIndex(['2011-01-01', '2011-01-02', '2011-01-03', '2011-01-04',\n",
      "               '2011-01-05'],\n",
      "              dtype='datetime64[ns]', freq='D')\n"
     ]
    }
   ],
   "source": [
    "print(pd.date_range('1/1/2011',periods=5))"
   ]
  },
  {
   "cell_type": "code",
   "execution_count": 55,
   "id": "eac2acf7-f051-48ae-9acb-9b985c6de79d",
   "metadata": {},
   "outputs": [
    {
     "name": "stdout",
     "output_type": "stream",
     "text": [
      "DatetimeIndex(['2011-01-01', '2011-01-02', '2011-01-03', '2011-01-04',\n",
      "               '2011-01-05'],\n",
      "              dtype='datetime64[ns]', freq='D')\n"
     ]
    }
   ],
   "source": [
    "from datetime import datetime\n",
    "start=datetime(2011,1,1)\n",
    "end=datetime(2011,1,5)\n",
    "print(pd.date_range(start,end))\n"
   ]
  },
  {
   "cell_type": "code",
   "execution_count": null,
   "id": "f0437d4c-81b8-4213-93dd-51410c161620",
   "metadata": {},
   "outputs": [],
   "source": []
  }
 ],
 "metadata": {
  "kernelspec": {
   "display_name": "Python 3 (ipykernel)",
   "language": "python",
   "name": "python3"
  },
  "language_info": {
   "codemirror_mode": {
    "name": "ipython",
    "version": 3
   },
   "file_extension": ".py",
   "mimetype": "text/x-python",
   "name": "python",
   "nbconvert_exporter": "python",
   "pygments_lexer": "ipython3",
   "version": "3.12.4"
  }
 },
 "nbformat": 4,
 "nbformat_minor": 5
}
