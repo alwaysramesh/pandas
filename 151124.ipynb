{
 "cells": [
  {
   "cell_type": "code",
   "execution_count": 2,
   "id": "6244c470-3a9d-42bd-a79d-f4d8460ab592",
   "metadata": {},
   "outputs": [],
   "source": [
    "import pandas as pd\n",
    "import numpy as np  #numpy ek packege hai "
   ]
  },
  {
   "cell_type": "code",
   "execution_count": 12,
   "id": "12990b88-f748-4dfa-9aaf-6535fcd7dc25",
   "metadata": {},
   "outputs": [
    {
     "name": "stdout",
     "output_type": "stream",
     "text": [
      "          x         y         z         w\n",
      "a -0.591215 -0.184442  0.437645 -0.597483\n",
      "b  0.343520 -0.864940  1.389017 -0.092251\n",
      "c -0.543738 -0.539887 -0.749759  0.299926\n",
      "d  0.914584  0.288615 -1.846465 -0.997474\n",
      "e  1.676195  1.282593 -2.796753 -1.678195\n"
     ]
    }
   ],
   "source": [
    "from numpy.random import randn\n",
    "df1=pd.DataFrame(randn(5,4),['a','b','c','d','e'],['x','y','z','w'])\n",
    "print(df1)"
   ]
  },
  {
   "cell_type": "code",
   "execution_count": 14,
   "id": "7e1b999a-8cec-403d-b6fe-a9aa4e4ffca2",
   "metadata": {},
   "outputs": [
    {
     "data": {
      "text/html": [
       "<div>\n",
       "<style scoped>\n",
       "    .dataframe tbody tr th:only-of-type {\n",
       "        vertical-align: middle;\n",
       "    }\n",
       "\n",
       "    .dataframe tbody tr th {\n",
       "        vertical-align: top;\n",
       "    }\n",
       "\n",
       "    .dataframe thead th {\n",
       "        text-align: right;\n",
       "    }\n",
       "</style>\n",
       "<table border=\"1\" class=\"dataframe\">\n",
       "  <thead>\n",
       "    <tr style=\"text-align: right;\">\n",
       "      <th></th>\n",
       "      <th>x</th>\n",
       "      <th>y</th>\n",
       "      <th>z</th>\n",
       "      <th>w</th>\n",
       "    </tr>\n",
       "  </thead>\n",
       "  <tbody>\n",
       "    <tr>\n",
       "      <th>a</th>\n",
       "      <td>True</td>\n",
       "      <td>True</td>\n",
       "      <td>False</td>\n",
       "      <td>True</td>\n",
       "    </tr>\n",
       "    <tr>\n",
       "      <th>b</th>\n",
       "      <td>False</td>\n",
       "      <td>True</td>\n",
       "      <td>False</td>\n",
       "      <td>True</td>\n",
       "    </tr>\n",
       "    <tr>\n",
       "      <th>c</th>\n",
       "      <td>True</td>\n",
       "      <td>True</td>\n",
       "      <td>True</td>\n",
       "      <td>False</td>\n",
       "    </tr>\n",
       "    <tr>\n",
       "      <th>d</th>\n",
       "      <td>False</td>\n",
       "      <td>False</td>\n",
       "      <td>True</td>\n",
       "      <td>True</td>\n",
       "    </tr>\n",
       "    <tr>\n",
       "      <th>e</th>\n",
       "      <td>False</td>\n",
       "      <td>False</td>\n",
       "      <td>True</td>\n",
       "      <td>True</td>\n",
       "    </tr>\n",
       "  </tbody>\n",
       "</table>\n",
       "</div>"
      ],
      "text/plain": [
       "       x      y      z      w\n",
       "a   True   True  False   True\n",
       "b  False   True  False   True\n",
       "c   True   True   True  False\n",
       "d  False  False   True   True\n",
       "e  False  False   True   True"
      ]
     },
     "execution_count": 14,
     "metadata": {},
     "output_type": "execute_result"
    }
   ],
   "source": [
    "df1<0"
   ]
  },
  {
   "cell_type": "code",
   "execution_count": 15,
   "id": "471c00e3-c607-4101-ac18-1dfbb0e33d01",
   "metadata": {},
   "outputs": [
    {
     "name": "stdout",
     "output_type": "stream",
     "text": [
      "          x         y         z         w\n",
      "a  0.073392  0.750509  0.927179  0.771935\n",
      "b  0.167129  0.381301  0.464921  0.753669\n",
      "c  0.040630  0.598343  0.909585  0.711556\n",
      "d  0.834637  0.428723  0.814595  0.371072\n",
      "e  0.880337  0.558281  0.721582  0.671072\n"
     ]
    }
   ],
   "source": [
    "from numpy.random import rand\n",
    "df2=pd.DataFrame(rand(5,4),['a','b','c','d','e'],['x','y','z','w'])\n",
    "print(df2)"
   ]
  },
  {
   "cell_type": "code",
   "execution_count": 16,
   "id": "6a0535ee-8595-4268-a8a8-fb38f880b852",
   "metadata": {},
   "outputs": [
    {
     "data": {
      "text/html": [
       "<div>\n",
       "<style scoped>\n",
       "    .dataframe tbody tr th:only-of-type {\n",
       "        vertical-align: middle;\n",
       "    }\n",
       "\n",
       "    .dataframe tbody tr th {\n",
       "        vertical-align: top;\n",
       "    }\n",
       "\n",
       "    .dataframe thead th {\n",
       "        text-align: right;\n",
       "    }\n",
       "</style>\n",
       "<table border=\"1\" class=\"dataframe\">\n",
       "  <thead>\n",
       "    <tr style=\"text-align: right;\">\n",
       "      <th></th>\n",
       "      <th>x</th>\n",
       "      <th>y</th>\n",
       "      <th>z</th>\n",
       "      <th>w</th>\n",
       "    </tr>\n",
       "  </thead>\n",
       "  <tbody>\n",
       "    <tr>\n",
       "      <th>a</th>\n",
       "      <td>False</td>\n",
       "      <td>False</td>\n",
       "      <td>False</td>\n",
       "      <td>False</td>\n",
       "    </tr>\n",
       "    <tr>\n",
       "      <th>b</th>\n",
       "      <td>False</td>\n",
       "      <td>False</td>\n",
       "      <td>False</td>\n",
       "      <td>False</td>\n",
       "    </tr>\n",
       "    <tr>\n",
       "      <th>c</th>\n",
       "      <td>False</td>\n",
       "      <td>False</td>\n",
       "      <td>False</td>\n",
       "      <td>False</td>\n",
       "    </tr>\n",
       "    <tr>\n",
       "      <th>d</th>\n",
       "      <td>False</td>\n",
       "      <td>False</td>\n",
       "      <td>False</td>\n",
       "      <td>False</td>\n",
       "    </tr>\n",
       "    <tr>\n",
       "      <th>e</th>\n",
       "      <td>False</td>\n",
       "      <td>False</td>\n",
       "      <td>False</td>\n",
       "      <td>False</td>\n",
       "    </tr>\n",
       "  </tbody>\n",
       "</table>\n",
       "</div>"
      ],
      "text/plain": [
       "       x      y      z      w\n",
       "a  False  False  False  False\n",
       "b  False  False  False  False\n",
       "c  False  False  False  False\n",
       "d  False  False  False  False\n",
       "e  False  False  False  False"
      ]
     },
     "execution_count": 16,
     "metadata": {},
     "output_type": "execute_result"
    }
   ],
   "source": [
    "df2<0"
   ]
  },
  {
   "cell_type": "code",
   "execution_count": 18,
   "id": "6281207f-ff0e-45ad-bc71-c608bce709e1",
   "metadata": {},
   "outputs": [
    {
     "data": {
      "text/plain": [
       "a    0.073392\n",
       "b    0.167129\n",
       "c    0.040630\n",
       "d    0.834637\n",
       "e    0.880337\n",
       "Name: x, dtype: float64"
      ]
     },
     "execution_count": 18,
     "metadata": {},
     "output_type": "execute_result"
    }
   ],
   "source": [
    "df2['x']"
   ]
  },
  {
   "cell_type": "code",
   "execution_count": 20,
   "id": "f24cd321-b02a-44bb-ab87-0e60bd0fafa2",
   "metadata": {},
   "outputs": [
    {
     "data": {
      "text/plain": [
       "a    True\n",
       "b    True\n",
       "c    True\n",
       "d    True\n",
       "e    True\n",
       "Name: x, dtype: bool"
      ]
     },
     "execution_count": 20,
     "metadata": {},
     "output_type": "execute_result"
    }
   ],
   "source": [
    "df2['x']>0"
   ]
  },
  {
   "cell_type": "code",
   "execution_count": 24,
   "id": "cd0beabe-a75d-47e4-9df3-54db814d6494",
   "metadata": {},
   "outputs": [
    {
     "data": {
      "text/html": [
       "<div>\n",
       "<style scoped>\n",
       "    .dataframe tbody tr th:only-of-type {\n",
       "        vertical-align: middle;\n",
       "    }\n",
       "\n",
       "    .dataframe tbody tr th {\n",
       "        vertical-align: top;\n",
       "    }\n",
       "\n",
       "    .dataframe thead th {\n",
       "        text-align: right;\n",
       "    }\n",
       "</style>\n",
       "<table border=\"1\" class=\"dataframe\">\n",
       "  <thead>\n",
       "    <tr style=\"text-align: right;\">\n",
       "      <th></th>\n",
       "      <th>x</th>\n",
       "      <th>y</th>\n",
       "      <th>z</th>\n",
       "      <th>w</th>\n",
       "    </tr>\n",
       "  </thead>\n",
       "  <tbody>\n",
       "    <tr>\n",
       "      <th>b</th>\n",
       "      <td>0.343520</td>\n",
       "      <td>-0.864940</td>\n",
       "      <td>1.389017</td>\n",
       "      <td>-0.092251</td>\n",
       "    </tr>\n",
       "    <tr>\n",
       "      <th>d</th>\n",
       "      <td>0.914584</td>\n",
       "      <td>0.288615</td>\n",
       "      <td>-1.846465</td>\n",
       "      <td>-0.997474</td>\n",
       "    </tr>\n",
       "    <tr>\n",
       "      <th>e</th>\n",
       "      <td>1.676195</td>\n",
       "      <td>1.282593</td>\n",
       "      <td>-2.796753</td>\n",
       "      <td>-1.678195</td>\n",
       "    </tr>\n",
       "  </tbody>\n",
       "</table>\n",
       "</div>"
      ],
      "text/plain": [
       "          x         y         z         w\n",
       "b  0.343520 -0.864940  1.389017 -0.092251\n",
       "d  0.914584  0.288615 -1.846465 -0.997474\n",
       "e  1.676195  1.282593 -2.796753 -1.678195"
      ]
     },
     "execution_count": 24,
     "metadata": {},
     "output_type": "execute_result"
    }
   ],
   "source": [
    "df1[df1['x']>0]"
   ]
  },
  {
   "cell_type": "code",
   "execution_count": 32,
   "id": "72266038-a436-4255-bc8a-eb4cc4cf80c4",
   "metadata": {},
   "outputs": [
    {
     "data": {
      "text/plain": [
       "b   -0.864940\n",
       "d    0.288615\n",
       "e    1.282593\n",
       "Name: y, dtype: float64"
      ]
     },
     "execution_count": 32,
     "metadata": {},
     "output_type": "execute_result"
    }
   ],
   "source": [
    "df1[df1['x']>0]['y']"
   ]
  },
  {
   "cell_type": "code",
   "execution_count": 28,
   "id": "1dce6394-bbee-4d3c-8df6-1bfd3cd38ef3",
   "metadata": {},
   "outputs": [
    {
     "data": {
      "text/html": [
       "<div>\n",
       "<style scoped>\n",
       "    .dataframe tbody tr th:only-of-type {\n",
       "        vertical-align: middle;\n",
       "    }\n",
       "\n",
       "    .dataframe tbody tr th {\n",
       "        vertical-align: top;\n",
       "    }\n",
       "\n",
       "    .dataframe thead th {\n",
       "        text-align: right;\n",
       "    }\n",
       "</style>\n",
       "<table border=\"1\" class=\"dataframe\">\n",
       "  <thead>\n",
       "    <tr style=\"text-align: right;\">\n",
       "      <th></th>\n",
       "      <th>y</th>\n",
       "      <th>x</th>\n",
       "    </tr>\n",
       "  </thead>\n",
       "  <tbody>\n",
       "    <tr>\n",
       "      <th>b</th>\n",
       "      <td>-0.864940</td>\n",
       "      <td>0.343520</td>\n",
       "    </tr>\n",
       "    <tr>\n",
       "      <th>d</th>\n",
       "      <td>0.288615</td>\n",
       "      <td>0.914584</td>\n",
       "    </tr>\n",
       "    <tr>\n",
       "      <th>e</th>\n",
       "      <td>1.282593</td>\n",
       "      <td>1.676195</td>\n",
       "    </tr>\n",
       "  </tbody>\n",
       "</table>\n",
       "</div>"
      ],
      "text/plain": [
       "          y         x\n",
       "b -0.864940  0.343520\n",
       "d  0.288615  0.914584\n",
       "e  1.282593  1.676195"
      ]
     },
     "execution_count": 28,
     "metadata": {},
     "output_type": "execute_result"
    }
   ],
   "source": [
    "df1[df1['x']>0][['y','x']]"
   ]
  },
  {
   "cell_type": "code",
   "execution_count": 45,
   "id": "aa1cfe3f-04ed-411d-a316-53e4d91360d4",
   "metadata": {},
   "outputs": [
    {
     "data": {
      "text/html": [
       "<div>\n",
       "<style scoped>\n",
       "    .dataframe tbody tr th:only-of-type {\n",
       "        vertical-align: middle;\n",
       "    }\n",
       "\n",
       "    .dataframe tbody tr th {\n",
       "        vertical-align: top;\n",
       "    }\n",
       "\n",
       "    .dataframe thead th {\n",
       "        text-align: right;\n",
       "    }\n",
       "</style>\n",
       "<table border=\"1\" class=\"dataframe\">\n",
       "  <thead>\n",
       "    <tr style=\"text-align: right;\">\n",
       "      <th></th>\n",
       "      <th>x</th>\n",
       "      <th>y</th>\n",
       "      <th>z</th>\n",
       "      <th>w</th>\n",
       "    </tr>\n",
       "  </thead>\n",
       "  <tbody>\n",
       "    <tr>\n",
       "      <th>e</th>\n",
       "      <td>1.676195</td>\n",
       "      <td>1.282593</td>\n",
       "      <td>-2.796753</td>\n",
       "      <td>-1.678195</td>\n",
       "    </tr>\n",
       "  </tbody>\n",
       "</table>\n",
       "</div>"
      ],
      "text/plain": [
       "          x         y         z         w\n",
       "e  1.676195  1.282593 -2.796753 -1.678195"
      ]
     },
     "execution_count": 45,
     "metadata": {},
     "output_type": "execute_result"
    }
   ],
   "source": [
    "df1[(df1['x']>0) & (df1['y']>1)]\n"
   ]
  },
  {
   "cell_type": "code",
   "execution_count": null,
   "id": "7c238dfa-90d2-4f12-804c-396ae38b7614",
   "metadata": {},
   "outputs": [],
   "source": []
  },
  {
   "cell_type": "code",
   "execution_count": 46,
   "id": "5dd51bf2-f1bd-4e35-88a4-011390e2cf34",
   "metadata": {},
   "outputs": [
    {
     "data": {
      "text/html": [
       "<div>\n",
       "<style scoped>\n",
       "    .dataframe tbody tr th:only-of-type {\n",
       "        vertical-align: middle;\n",
       "    }\n",
       "\n",
       "    .dataframe tbody tr th {\n",
       "        vertical-align: top;\n",
       "    }\n",
       "\n",
       "    .dataframe thead th {\n",
       "        text-align: right;\n",
       "    }\n",
       "</style>\n",
       "<table border=\"1\" class=\"dataframe\">\n",
       "  <thead>\n",
       "    <tr style=\"text-align: right;\">\n",
       "      <th></th>\n",
       "      <th>x</th>\n",
       "      <th>y</th>\n",
       "      <th>z</th>\n",
       "      <th>w</th>\n",
       "    </tr>\n",
       "  </thead>\n",
       "  <tbody>\n",
       "    <tr>\n",
       "      <th>b</th>\n",
       "      <td>0.343520</td>\n",
       "      <td>-0.864940</td>\n",
       "      <td>1.389017</td>\n",
       "      <td>-0.092251</td>\n",
       "    </tr>\n",
       "    <tr>\n",
       "      <th>d</th>\n",
       "      <td>0.914584</td>\n",
       "      <td>0.288615</td>\n",
       "      <td>-1.846465</td>\n",
       "      <td>-0.997474</td>\n",
       "    </tr>\n",
       "    <tr>\n",
       "      <th>e</th>\n",
       "      <td>1.676195</td>\n",
       "      <td>1.282593</td>\n",
       "      <td>-2.796753</td>\n",
       "      <td>-1.678195</td>\n",
       "    </tr>\n",
       "  </tbody>\n",
       "</table>\n",
       "</div>"
      ],
      "text/plain": [
       "          x         y         z         w\n",
       "b  0.343520 -0.864940  1.389017 -0.092251\n",
       "d  0.914584  0.288615 -1.846465 -0.997474\n",
       "e  1.676195  1.282593 -2.796753 -1.678195"
      ]
     },
     "execution_count": 46,
     "metadata": {},
     "output_type": "execute_result"
    }
   ],
   "source": [
    "df1[(df1['x']>0) | (df1['y']>1)]"
   ]
  },
  {
   "cell_type": "code",
   "execution_count": 50,
   "id": "55dc3658-9871-4251-8c45-3af74e4e661f",
   "metadata": {},
   "outputs": [
    {
     "data": {
      "text/plain": [
       "b    1.389017\n",
       "d   -1.846465\n",
       "e   -2.796753\n",
       "Name: z, dtype: float64"
      ]
     },
     "execution_count": 50,
     "metadata": {},
     "output_type": "execute_result"
    }
   ],
   "source": [
    "df1[(df1['x']>0) | (df1['y']>1)] ['z']"
   ]
  },
  {
   "cell_type": "code",
   "execution_count": 54,
   "id": "a1779eaf-d3c8-412c-9e83-c3b16007cc5c",
   "metadata": {},
   "outputs": [
    {
     "name": "stdout",
     "output_type": "stream",
     "text": [
      "          x         y         z         w\n",
      "a  0.515190  0.114588 -0.986831  0.582298\n",
      "b -1.185326  0.772836  0.731060 -0.582521\n",
      "c  0.635885  0.052054 -1.078299  1.562571\n",
      "d  0.997713  0.311573 -1.421788  0.096675\n",
      "e  1.189434  0.456700 -0.661698 -0.404793\n",
      "\n",
      "  index         x         y         z         w\n",
      "0     a  0.055363  0.969722  0.215150  0.305582\n",
      "1     b  0.744981  0.728441  0.677809  0.027219\n",
      "2     c  0.547404  0.717306  0.539519  0.256667\n",
      "3     d  0.458037  0.932527  0.371254  0.665991\n",
      "4     e  0.899632  0.326413  0.465710  0.787730\n"
     ]
    }
   ],
   "source": [
    "from numpy.random import randn\n",
    "df3=pd.DataFrame(randn(5,4),['a','b','c','d','e'],['x','y','z','w'])\n",
    "print(df3)\n",
    "print()\n",
    "print(df.reset_index())"
   ]
  },
  {
   "cell_type": "code",
   "execution_count": 63,
   "id": "a8836ed3-7c73-496f-a8a1-015a86545110",
   "metadata": {},
   "outputs": [
    {
     "name": "stdout",
     "output_type": "stream",
     "text": [
      "          0         1\n",
      "0  1.727750  0.169049\n",
      "1  0.926683  2.303021\n",
      "2 -1.995904 -1.195641\n",
      "3 -0.748453 -0.214445\n",
      "4 -0.432607  1.287711\n",
      "5 -0.400122 -0.931053\n"
     ]
    }
   ],
   "source": [
    "outer=['a','a','a','b','b','b','b'] \n",
    "inner=[1,2,3,1,2,3]\n",
    "h_index=list(zip(outer,inner))\n",
    "h_index=pd.MultiIndex.from_tuples(h_index)\n",
    "\n",
    "df1=pd.DataFrame(randn(6,2))\n",
    "print(df1)\n"
   ]
  },
  {
   "cell_type": "code",
   "execution_count": 60,
   "id": "a4040b7e-ed7f-4a0d-be8d-1c804e1760b8",
   "metadata": {},
   "outputs": [
    {
     "name": "stdout",
     "output_type": "stream",
     "text": [
      "            0         1\n",
      "a 1 -0.232812 -2.453918\n",
      "  2  0.027806  1.138510\n",
      "  3 -0.261293 -1.958221\n",
      "b 1  0.427401  1.110155\n",
      "  2  1.103575 -1.528460\n",
      "  3 -0.591630  0.510019\n"
     ]
    }
   ],
   "source": [
    "df1=pd.DataFrame(randn(6,2),h_index)\n",
    "print(df1)"
   ]
  },
  {
   "cell_type": "code",
   "execution_count": 61,
   "id": "9363f8c3-4646-4ee5-9ba5-03d34c0d4b15",
   "metadata": {},
   "outputs": [
    {
     "name": "stdout",
     "output_type": "stream",
     "text": [
      "            A         B\n",
      "a 1 -0.928891 -0.606458\n",
      "  2 -0.114548 -0.820994\n",
      "  3  0.959438  1.264698\n",
      "b 1  0.348227 -1.134219\n",
      "  2 -0.822842  0.848525\n",
      "  3 -0.848266 -0.320709\n"
     ]
    }
   ],
   "source": [
    "df1=pd.DataFrame(randn(6,2),h_index,['A','B'])\n",
    "print(df1)"
   ]
  },
  {
   "cell_type": "code",
   "execution_count": null,
   "id": "35a8a548-c086-4b2c-9d22-3b5380869878",
   "metadata": {},
   "outputs": [],
   "source": []
  }
 ],
 "metadata": {
  "kernelspec": {
   "display_name": "Python 3 (ipykernel)",
   "language": "python",
   "name": "python3"
  },
  "language_info": {
   "codemirror_mode": {
    "name": "ipython",
    "version": 3
   },
   "file_extension": ".py",
   "mimetype": "text/x-python",
   "name": "python",
   "nbconvert_exporter": "python",
   "pygments_lexer": "ipython3",
   "version": "3.12.4"
  }
 },
 "nbformat": 4,
 "nbformat_minor": 5
}
