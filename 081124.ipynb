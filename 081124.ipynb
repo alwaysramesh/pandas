{
 "cells": [
  {
   "cell_type": "code",
   "execution_count": 1,
   "id": "66b6e364-b5ee-48f9-a967-ecdb94bea7df",
   "metadata": {},
   "outputs": [],
   "source": [
    "import pandas as pd\n",
    "import numpy as np"
   ]
  },
  {
   "cell_type": "code",
   "execution_count": 4,
   "id": "c032bc33-12ca-45bb-bc64-d81dd29f08c5",
   "metadata": {},
   "outputs": [
    {
     "name": "stdout",
     "output_type": "stream",
     "text": [
      "RangeIndex(start=0, stop=4, step=1)\n",
      "[2 4 6 8]\n",
      "Index(['a', 'b', 'c'], dtype='object')\n",
      "[11.2 18.6 22.5]\n"
     ]
    }
   ],
   "source": [
    "x=pd.Series(data=[2,4,6,8])\n",
    "y=pd.Series(data=[11.2,18.6,22.5],index=['a','b','c'])\n",
    "print(x.index)\n",
    "print(x.values)\n",
    "print(y.index)\n",
    "print(y.values)"
   ]
  },
  {
   "cell_type": "code",
   "execution_count": 27,
   "id": "76588465-32bc-42ac-80ce-064136264e58",
   "metadata": {},
   "outputs": [
    {
     "name": "stdout",
     "output_type": "stream",
     "text": [
      "13\n",
      "4    13\n",
      "dtype: int64\n"
     ]
    }
   ],
   "source": [
    "df=pd.Series([12,11,13,16,13])\n",
    "print(df.iloc[-1])\n",
    "print(df[-1::])"
   ]
  },
  {
   "cell_type": "code",
   "execution_count": 26,
   "id": "fec4cdb9-68ba-4102-9da5-f75a64912ed5",
   "metadata": {},
   "outputs": [
    {
     "name": "stdout",
     "output_type": "stream",
     "text": [
      "4    13\n",
      "dtype: int64\n",
      "1    11\n",
      "2    13\n",
      "3    16\n",
      "4    13\n",
      "dtype: int64\n"
     ]
    }
   ],
   "source": [
    "print(df.tail(1))\n",
    "print(df.tail(-1))"
   ]
  },
  {
   "cell_type": "code",
   "execution_count": 25,
   "id": "738b3d36-ea59-4d32-a1ed-c74186c2e961",
   "metadata": {},
   "outputs": [
    {
     "name": "stdout",
     "output_type": "stream",
     "text": [
      "0    12\n",
      "1    11\n",
      "dtype: int64\n"
     ]
    }
   ],
   "source": [
    "print(df.head(2))"
   ]
  },
  {
   "cell_type": "code",
   "execution_count": 57,
   "id": "1e0d58e3-536d-4835-97e7-842c8e391fbe",
   "metadata": {},
   "outputs": [
    {
     "name": "stdout",
     "output_type": "stream",
     "text": [
      "int64\n",
      "\n",
      "<bound method IndexOpsMixin.item of 0    1\n",
      "1    2\n",
      "2    3\n",
      "3    4\n",
      "dtype: int64>\n",
      "\n",
      "float64\n",
      "\n",
      "3\n",
      "24\n",
      "32\n",
      "(3,)\n",
      "(4,)\n",
      "\n",
      "1\n",
      "\n",
      "1\n",
      "False\n",
      "False\n",
      "True\n",
      "False\n",
      "True\n"
     ]
    }
   ],
   "source": [
    "a=pd.Series(data=[1,2,3,4])\n",
    "b=pd.Series(data=[4.9 , 8.2 , 5.6],index=['x','y','z'])\n",
    "print(a.dtype)\n",
    "print()\n",
    "print(a.item)\n",
    "\n",
    "print()\n",
    "print(b.dtype)\n",
    "print()\n",
    "print(b.size)\n",
    "\n",
    "print(b.nbytes)\n",
    "print(a.nbytes)\n",
    "\n",
    "print(b.shape)\n",
    "print(a.shape)\n",
    "print()\n",
    "print(b.ndim)\n",
    "print()\n",
    "print(a.ndim)\n",
    "print(b.empty)\n",
    "print(a.empty)\n",
    "\n",
    "c=pd.Series([])\n",
    "print(c.empty)\n",
    "print(a.hasnans)    #NAN number nhi hai to false\n",
    "d=pd.Series([20,np.NaN])\n",
    "print(d.hasnans)"
   ]
  },
  {
   "cell_type": "code",
   "execution_count": null,
   "id": "0f35cc8b-11e6-4d31-9529-df6836dfcbaa",
   "metadata": {},
   "outputs": [],
   "source": []
  }
 ],
 "metadata": {
  "kernelspec": {
   "display_name": "Python 3 (ipykernel)",
   "language": "python",
   "name": "python3"
  },
  "language_info": {
   "codemirror_mode": {
    "name": "ipython",
    "version": 3
   },
   "file_extension": ".py",
   "mimetype": "text/x-python",
   "name": "python",
   "nbconvert_exporter": "python",
   "pygments_lexer": "ipython3",
   "version": "3.12.4"
  }
 },
 "nbformat": 4,
 "nbformat_minor": 5
}
